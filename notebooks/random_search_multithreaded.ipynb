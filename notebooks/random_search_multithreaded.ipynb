{
 "cells": [
  {
   "cell_type": "code",
   "execution_count": 1,
   "metadata": {},
   "outputs": [],
   "source": [
    "import numpy as np\n",
    "import matplotlib.pyplot as plt\n",
    "import cv2\n",
    "import os\n",
    "from cv2 import aruco\n",
    "import msgpack as mp\n",
    "import msgpack_numpy as mpn\n",
    "from tqdm import tqdm\n",
    "from pd_support import *\n",
    "from scipy.spatial.transform import Rotation as R\n",
    "import polars as pl\n",
    "import os\n",
    "from scipy.interpolate import interp1d"
   ]
  },
  {
   "cell_type": "markdown",
   "metadata": {},
   "source": [
    "## Define calibration path"
   ]
  },
  {
   "cell_type": "code",
   "execution_count": 2,
   "metadata": {},
   "outputs": [],
   "source": [
    "_pth = os.path.dirname(os.getcwd())\n",
    "_parent_folder = \"data\"\n",
    "_calib_folder_name = \"calib_1200_480_mf_04\"\n",
    "\n",
    "_webcam_calib_folder = os.path.join(\n",
    "    _pth, _parent_folder, \"calibration\", _calib_folder_name\n",
    ")\n",
    "_webcam_calib_video = os.path.join(_webcam_calib_folder, \"webcam_color.msgpack\")\n",
    "_webcam_calib_folder = os.path.join(_webcam_calib_folder)\n",
    "_webcam_calib_pth = os.path.join(_webcam_calib_folder, \"webcam_calibration.msgpack\")"
   ]
  },
  {
   "cell_type": "markdown",
   "metadata": {},
   "source": [
    "## path definition"
   ]
  },
  {
   "cell_type": "code",
   "execution_count": 3,
   "metadata": {},
   "outputs": [],
   "source": [
    "_recording_dir = os.path.join(os.path.dirname(os.getcwd()), \"data\")\n",
    "_data_dir = \"high_res_waf\"\n",
    "_data_path = os.path.join(\n",
    "    _recording_dir, \"recordings\", _data_dir, \"webcam_color.msgpack\"\n",
    ")\n",
    "\n",
    "ar_parameters = aruco.DetectorParameters()\n",
    "ar_dict = aruco.getPredefinedDictionary(aruco.DICT_ARUCO_MIP_36H12)\n",
    "ar_detector = aruco.ArucoDetector(ar_dict, ar_parameters)\n",
    "markerLength = 0.05\n",
    "markerSeperation = 0.01\n",
    "\n",
    "default_ids = [12, 88, 89]\n",
    "\n",
    "board = aruco.GridBoard(\n",
    "    size=[1, 1],\n",
    "    markerLength=markerLength,\n",
    "    markerSeparation=markerSeperation,\n",
    "    dictionary=ar_dict,\n",
    ")"
   ]
  },
  {
   "cell_type": "code",
   "execution_count": 4,
   "metadata": {},
   "outputs": [],
   "source": [
    "def estimate_pose_single_markers(\n",
    "    corners, marker_size, camera_matrix, distortion_coefficients\n",
    "):\n",
    "    marker_points = np.array(\n",
    "        [\n",
    "            [-marker_size / 2, marker_size / 2, 0],\n",
    "            [marker_size / 2, marker_size / 2, 0],\n",
    "            [marker_size / 2, -marker_size / 2, 0],\n",
    "            [-marker_size / 2, -marker_size / 2, 0],\n",
    "        ],\n",
    "        dtype=np.float32,\n",
    "    )\n",
    "    rvecs = []\n",
    "    tvecs = []\n",
    "    for corner in corners:\n",
    "        _, r, t = cv2.solvePnP(\n",
    "            marker_points,\n",
    "            corner,\n",
    "            camera_matrix,\n",
    "            distortion_coefficients,\n",
    "            True,\n",
    "            flags=cv2.SOLVEPNP_IPPE_SQUARE,\n",
    "        )\n",
    "        if r is not None and t is not None:\n",
    "            r = np.array(r).reshape(1, 3).tolist()\n",
    "            t = np.array(t).reshape(1, 3).tolist()\n",
    "            rvecs.append(r)\n",
    "            tvecs.append(t)\n",
    "    return np.array(rvecs, dtype=np.float32), np.array(tvecs, dtype=np.float32)"
   ]
  },
  {
   "cell_type": "code",
   "execution_count": 5,
   "metadata": {},
   "outputs": [],
   "source": [
    "ARUCO_PARAMETERS = aruco.DetectorParameters()\n",
    "ARUCO_DICT = aruco.getPredefinedDictionary(aruco.DICT_ARUCO_ORIGINAL)\n",
    "detector = aruco.ArucoDetector(ARUCO_DICT, ARUCO_PARAMETERS)\n",
    "markerLength = 0.05\n",
    "markerSeperation = 0.01\n",
    "\n",
    "board = aruco.GridBoard(\n",
    "    size=[1, 1],\n",
    "    markerLength=markerLength,\n",
    "    markerSeparation=markerSeperation,\n",
    "    dictionary=ARUCO_DICT,\n",
    ")"
   ]
  },
  {
   "cell_type": "code",
   "execution_count": 6,
   "metadata": {},
   "outputs": [],
   "source": [
    "calibration_flags = cv2.CALIB_CB_CLUSTERING\n",
    "term_criteria = (cv2.TERM_CRITERIA_EPS + cv2.TERM_CRITERIA_MAX_ITER, 30, 1e-6)"
   ]
  },
  {
   "cell_type": "code",
   "execution_count": 7,
   "metadata": {},
   "outputs": [
    {
     "name": "stderr",
     "output_type": "stream",
     "text": [
      "0it [00:00, ?it/s]"
     ]
    },
    {
     "name": "stderr",
     "output_type": "stream",
     "text": [
      "1851it [00:00, 217493.74it/s]\n"
     ]
    }
   ],
   "source": [
    "corners, ids = [], []\n",
    "with open(_data_path, \"rb\") as _f:\n",
    "    unpacker = mp.Unpacker(_f, object_hook=mpn.decode)\n",
    "    img_size = next(unpacker)\n",
    "    for _frame in tqdm(unpacker):\n",
    "        _c, _i = _frame\n",
    "        corners.append(_c)\n",
    "        ids.append(_i)\n",
    "\n",
    "timestamp = []\n",
    "sync = []\n",
    "\n",
    "with open(\n",
    "    os.path.join(os.path.dirname(_data_path), \"webcam_timestamp.msgpack\"), \"rb\"\n",
    ") as _f:\n",
    "    unpacker = mp.Unpacker(_f, object_hook=mpn.decode)\n",
    "    for _p in unpacker:\n",
    "        sync.append(_p[0])\n",
    "        timestamp.append(_p[1])\n",
    "sync = np.array(sync).astype(bool)"
   ]
  },
  {
   "cell_type": "code",
   "execution_count": 8,
   "metadata": {},
   "outputs": [],
   "source": [
    "ar_df = {\"time\": timestamp, \"sync\": sync}\n",
    "ar_df = pl.from_dict(ar_df)\n",
    "if type(ar_df[\"time\"][0]) is not datetime:\n",
    "    ar_df = ar_df.with_columns(pl.col(\"time\").str.to_datetime())"
   ]
  },
  {
   "cell_type": "code",
   "execution_count": 9,
   "metadata": {},
   "outputs": [
    {
     "name": "stderr",
     "output_type": "stream",
     "text": [
      "e:\\CMC\\pyprojects\\programs_rpi\\programs\\notebooks\\pd_support.py:326: FutureWarning: errors='ignore' is deprecated and will raise in a future version. Use to_numeric without passing `errors` and catch exceptions explicitly instead\n",
      "  _rb_df = _rb_df.apply(pd.to_numeric, errors=\"ignore\")\n"
     ]
    }
   ],
   "source": [
    "mocap_df, st_time = read_rigid_body_csv(\n",
    "    os.path.join(os.path.dirname(_data_path), f\"{_data_dir}.csv\")\n",
    ")\n",
    "mocap_df = add_datetime_col(mocap_df, st_time, \"seconds\")\n",
    "mocap_df = pl.from_pandas(mocap_df)"
   ]
  },
  {
   "cell_type": "code",
   "execution_count": 10,
   "metadata": {},
   "outputs": [],
   "source": [
    "tr = get_rb_marker_name(1)\n",
    "tl = get_rb_marker_name(4)\n",
    "br = get_rb_marker_name(2)\n",
    "bl = get_rb_marker_name(5)"
   ]
  },
  {
   "cell_type": "code",
   "execution_count": 11,
   "metadata": {},
   "outputs": [],
   "source": [
    "pulse_sweep = False\n",
    "for idx, val in enumerate(ar_df[\"sync\"]):\n",
    "    if val == True and not pulse_sweep:\n",
    "        start_pulse = idx\n",
    "        pulse_sweep = True\n",
    "    if val == False and pulse_sweep:\n",
    "        end_pulse = idx\n",
    "        break\n",
    "ar_df = ar_df[start_pulse:end_pulse]\n",
    "corners = corners[start_pulse:end_pulse]\n",
    "ids = ids[start_pulse:end_pulse]\n",
    "\n",
    "_time_diff = ar_df[\"time\"][0] - mocap_df[\"time\"][0]\n",
    "\n",
    "ar_df = ar_df.with_columns([(pl.col(\"time\") - _time_diff).alias(\"time\")])"
   ]
  },
  {
   "cell_type": "code",
   "execution_count": 12,
   "metadata": {},
   "outputs": [],
   "source": [
    "mocap_mean = {\"x\": [], \"y\": [], \"z\": []}\n",
    "mocap_mean[\"x\"] = mocap_df[[tr[\"x\"], tl[\"x\"], br[\"x\"], bl[\"x\"]]].to_numpy().mean(axis=1)\n",
    "mocap_mean[\"y\"] = mocap_df[[tr[\"y\"], tl[\"y\"], br[\"y\"], bl[\"y\"]]].to_numpy().mean(axis=1)\n",
    "mocap_mean[\"z\"] = mocap_df[[tr[\"z\"], tl[\"z\"], br[\"z\"], bl[\"z\"]]].to_numpy().mean(axis=1)\n",
    "\n",
    "mocap_qt_0 = mocap_df[[\"rb_ang_x\", \"rb_ang_y\", \"rb_ang_z\", \"rb_ang_w\"]][0].to_numpy()\n",
    "\n",
    "mocap_rotation = R.from_quat(mocap_qt_0).as_matrix()\n",
    "\n",
    "mocap_mean = pl.from_dict(mocap_mean)\n",
    "\n",
    "mt_dict = {\"x\": [], \"y\": [], \"z\": []}\n",
    "rmat_m = mocap_rotation[0]\n",
    "\n",
    "for i in range(len(mocap_df[\"time\"])):\n",
    "    tvec_ar = rmat_m.T @ (\n",
    "        mocap_mean[[\"x\", \"y\", \"z\"]][i].to_numpy().reshape(3, 1)\n",
    "        - mocap_mean[[\"x\", \"y\", \"z\"]][0].to_numpy().reshape(3, 1)\n",
    "    )\n",
    "    tvec_ar = tvec_ar.T[0]\n",
    "    mt_dict[\"x\"].append(tvec_ar[0])\n",
    "    mt_dict[\"y\"].append(tvec_ar[1])\n",
    "    mt_dict[\"z\"].append(tvec_ar[2])\n",
    "\n",
    "mt_dict[\"time\"] = mocap_df[\"time\"]"
   ]
  },
  {
   "cell_type": "code",
   "execution_count": 13,
   "metadata": {},
   "outputs": [],
   "source": [
    "mc_angle_arr = mocap_df[[\"rb_ang_x\", \"rb_ang_y\", \"rb_ang_z\", \"rb_ang_w\"]].to_numpy()\n",
    "mocap_angle = []\n",
    "mc_ang_x = []\n",
    "mc_ang_y = []\n",
    "mc_ang_z = []\n",
    "for _a in mc_angle_arr:\n",
    "    try:\n",
    "        _ax, _ay, _az = R.from_matrix(\n",
    "            mocap_rotation[0].T @ R.from_quat(_a).as_matrix()\n",
    "        ).as_euler(\"xyz\", degrees=True)\n",
    "        mc_ang_x.append(_ax)\n",
    "        mc_ang_y.append(_ay)\n",
    "        mc_ang_z.append(_az)\n",
    "    except:\n",
    "        _ax, _ay, _az = R.from_matrix(mocap_rotation[0].T @ np.eye(3)).as_euler(\n",
    "            \"xyz\", degrees=True\n",
    "        )\n",
    "        mc_ang_x.append(_ax)\n",
    "        mc_ang_y.append(_ay)\n",
    "        mc_ang_z.append(_az)"
   ]
  },
  {
   "cell_type": "markdown",
   "metadata": {},
   "source": [
    "## Interoplating"
   ]
  },
  {
   "cell_type": "code",
   "execution_count": 14,
   "metadata": {},
   "outputs": [],
   "source": [
    "mocap = pl.from_dict(mt_dict)\n",
    "\n",
    "x1 = interp1d(mocap[\"time\"].dt.epoch(), mocap[\"x\"], fill_value=\"extrapolate\")\n",
    "y1 = interp1d(mocap[\"time\"].dt.epoch(), mocap[\"y\"], fill_value=\"extrapolate\")\n",
    "z1 = interp1d(mocap[\"time\"].dt.epoch(), mocap[\"z\"], fill_value=\"extrapolate\")\n",
    "\n",
    "ax = interp1d(mocap[\"time\"].dt.epoch(), mc_ang_x, fill_value=\"extrapolate\")\n",
    "ay = interp1d(mocap[\"time\"].dt.epoch(), mc_ang_y, fill_value=\"extrapolate\")\n",
    "az = interp1d(mocap[\"time\"].dt.epoch(), mc_ang_z, fill_value=\"extrapolate\")\n",
    "\n",
    "mocap_ip = {\"time\": ar_df[\"time\"]}\n",
    "mocap_ip[\"x\"] = x1(ar_df[\"time\"].dt.epoch())\n",
    "mocap_ip[\"y\"] = y1(ar_df[\"time\"].dt.epoch())\n",
    "mocap_ip[\"z\"] = z1(ar_df[\"time\"].dt.epoch())\n",
    "mocap_ip[\"rx\"] = ax(ar_df[\"time\"].dt.epoch())\n",
    "mocap_ip[\"ry\"] = ay(ar_df[\"time\"].dt.epoch())\n",
    "mocap_ip[\"rz\"] = az(ar_df[\"time\"].dt.epoch())\n",
    "\n",
    "mocap_ip = pl.from_dict(mocap_ip)"
   ]
  },
  {
   "cell_type": "markdown",
   "metadata": {},
   "source": [
    "## estimation"
   ]
  },
  {
   "cell_type": "code",
   "execution_count": 15,
   "metadata": {},
   "outputs": [],
   "source": [
    "with open(os.path.join(_webcam_calib_video), \"rb\") as _f:\n",
    "    data = list(mp.Unpacker(_f, object_hook=mpn.decode))\n",
    "img_size = data[0]\n",
    "video_data = data[1:]"
   ]
  },
  {
   "cell_type": "code",
   "execution_count": 16,
   "metadata": {},
   "outputs": [
    {
     "name": "stderr",
     "output_type": "stream",
     "text": [
      "6000it [18:58,  5.27it/s]\n"
     ]
    }
   ],
   "source": [
    "import concurrent.futures\n",
    "\n",
    "\n",
    "def process_item(dummy):\n",
    "    try:\n",
    "        marker_corners = []\n",
    "        marker_ids = []\n",
    "        counter = 0\n",
    "        rnd = np.random.choice(len(video_data), 20, replace=False)\n",
    "        for idx, data_points in enumerate(video_data):\n",
    "            if idx in rnd:\n",
    "                calib_corners, calib_ids = data_points\n",
    "                marker_corners.append(calib_corners)\n",
    "                marker_ids.append(calib_ids)\n",
    "                counter += 1\n",
    "\n",
    "        processed_image_points = []\n",
    "        processed_object_points = []\n",
    "        for _f in range(len(marker_corners)):\n",
    "            current_object_points, current_image_points = board.matchImagePoints(\n",
    "                marker_corners[_f], marker_ids[_f]\n",
    "            )\n",
    "            try:\n",
    "                if current_object_points.any() and current_image_points.any():\n",
    "                    processed_image_points.append(current_image_points)\n",
    "                    processed_object_points.append(current_object_points)\n",
    "            except:\n",
    "                pass\n",
    "\n",
    "        mtx2 = np.eye(3)\n",
    "        dist2 = np.zeros((1, 8))\n",
    "\n",
    "        # a, mtx1, dist1, b, c=cv2.calibrateCamera(processed_object_points, processed_image_points, (1200,480), mtx2, dist2, flags=calibration_flags, criteria=term_criteria)\n",
    "        a, mtx1, dist1, b, c = cv2.calibrateCamera(\n",
    "            processed_object_points, processed_image_points, (1200, 480), mtx2, dist2\n",
    "        )\n",
    "\n",
    "        camera_matrix = mtx1\n",
    "        dist_coeffs = dist1\n",
    "\n",
    "        rvecs = []\n",
    "        tvecs = []\n",
    "        for _c, _i in zip(corners, ids):\n",
    "            if (_i is not None and len(_i) > 0) and all(\n",
    "                item in default_ids for item in np.array(_i)\n",
    "            ):\n",
    "                rotation_vectors, translation_vectors = estimate_pose_single_markers(\n",
    "                    corners=_c,\n",
    "                    marker_size=0.05,\n",
    "                    camera_matrix=camera_matrix,\n",
    "                    distortion_coefficients=dist_coeffs,\n",
    "                )\n",
    "                rvecs.append(rotation_vectors[0][0])\n",
    "                tvecs.append(translation_vectors[0][0])\n",
    "\n",
    "            else:\n",
    "                rvecs.append(np.array([np.nan, np.nan, np.nan]))\n",
    "                tvecs.append(np.array([np.nan, np.nan, np.nan]))\n",
    "        tvecs = np.array(tvecs)\n",
    "        rvecs = np.array(rvecs)\n",
    "\n",
    "        t_dict = {\"x\": [], \"y\": [], \"z\": []}\n",
    "        ang_dict = {\"rx\": [], \"ry\": [], \"rz\": []}\n",
    "        rmat = cv2.Rodrigues(rvecs[1])[0]\n",
    "\n",
    "        for i in range(len(tvecs)):\n",
    "            tvec = rmat.T @ (tvecs[i].reshape(3, 1) - tvecs[1].reshape(3, 1))\n",
    "            tvec = tvec.T[0]\n",
    "            t_dict[\"x\"].append(tvec[0])\n",
    "            t_dict[\"y\"].append(tvec[1])\n",
    "            t_dict[\"z\"].append(tvec[2])\n",
    "\n",
    "            _del_r = R.from_matrix(\n",
    "                rmat.T @ R.from_rotvec(rvecs[0]).as_matrix()\n",
    "            ).as_euler(\"xyz\", degrees=True)\n",
    "            ang_dict[\"rx\"].append(_del_r[0])\n",
    "            ang_dict[\"ry\"].append(_del_r[1])\n",
    "            ang_dict[\"rz\"].append(_del_r[2])\n",
    "\n",
    "        _ex = np.nanmean(abs(np.array(t_dict[\"x\"]) - (mocap_ip[\"x\"])).to_numpy())\n",
    "        _ey = np.nanmean(abs(np.array(t_dict[\"y\"]) - (mocap_ip[\"y\"])).to_numpy())\n",
    "        _ez = np.nanmean(abs(np.array(t_dict[\"z\"]) - (mocap_ip[\"z\"])).to_numpy())\n",
    "\n",
    "        _mean_err = np.nanmean([_ex, _ey, _ez])\n",
    "        _max_x = np.nanmax(abs(np.array(t_dict[\"x\"]) - (mocap_ip[\"x\"])).to_numpy())\n",
    "        _max_y = np.nanmax(abs(np.array(t_dict[\"y\"]) - (mocap_ip[\"y\"])).to_numpy())\n",
    "        _max_z = np.nanmax(abs(np.array(t_dict[\"z\"]) - (mocap_ip[\"z\"])).to_numpy())\n",
    "\n",
    "        _eax = np.nanmean(abs(np.array(ang_dict[\"rx\"]) - (mocap_ip[\"rx\"])).to_numpy())\n",
    "        _eay = np.nanmean(abs(np.array(ang_dict[\"ry\"]) - (mocap_ip[\"ry\"])).to_numpy())\n",
    "        _eaz = np.nanmean(abs(np.array(ang_dict[\"rz\"]) - (mocap_ip[\"rz\"])).to_numpy())\n",
    "\n",
    "        _mean_error_ang = np.nanmean([_eax, _eay, _eaz])\n",
    "\n",
    "        return (\n",
    "            a,\n",
    "            _ex,\n",
    "            _ey,\n",
    "            _ez,\n",
    "            mtx1,\n",
    "            dist_coeffs,\n",
    "            _mean_err,\n",
    "            _max_x,\n",
    "            _max_y,\n",
    "            _max_z,\n",
    "            _eax,\n",
    "            _eay,\n",
    "            _eaz,\n",
    "            _mean_error_ang,\n",
    "        )\n",
    "    except:\n",
    "        return None\n",
    "\n",
    "\n",
    "# List of items to process\n",
    "items = np.arange(6000)\n",
    "\n",
    "results = []\n",
    "\n",
    "# Use ThreadPoolExecutor to process items in parallel\n",
    "with concurrent.futures.ThreadPoolExecutor() as executor:\n",
    "    # Map the function to the items list and execute in parallel\n",
    "    future_to_item = {executor.submit(process_item, item): item for item in items}\n",
    "\n",
    "    for future in tqdm(concurrent.futures.as_completed(future_to_item)):\n",
    "        item = future_to_item[future]\n",
    "        try:\n",
    "            result = future.result()\n",
    "            if result is not None:\n",
    "                results.append(result)\n",
    "        except Exception as exc:\n",
    "            print(f\"{item} generated an exception: {exc}\")"
   ]
  },
  {
   "cell_type": "code",
   "execution_count": 17,
   "metadata": {},
   "outputs": [],
   "source": [
    "error_dict = {\n",
    "    \"error\": [],\n",
    "    \"mtx\": [],\n",
    "    \"dist_coeffs\": [],\n",
    "    \"error_x\": [],\n",
    "    \"error_z\": [],\n",
    "    \"error_y\": [],\n",
    "    \"mean_err\": [],\n",
    "    \"max_x\": [],\n",
    "    \"max_y\": [],\n",
    "    \"max_z\": [],\n",
    "    \"error_ax\": [],\n",
    "    \"error_ay\": [],\n",
    "    \"error_az\": [],\n",
    "    \"mean_error_ang\": [],\n",
    "}\n",
    "\n",
    "for data in results:\n",
    "    error_dict[\"error\"].append(data[0])\n",
    "    error_dict[\"mtx\"].append(data[4])\n",
    "    error_dict[\"dist_coeffs\"].append(data[5])\n",
    "    error_dict[\"error_x\"].append(data[1])\n",
    "    error_dict[\"error_y\"].append(data[2])\n",
    "    error_dict[\"error_z\"].append(data[3])\n",
    "    error_dict[\"mean_err\"].append(data[6])\n",
    "    error_dict[\"max_x\"].append(data[7])\n",
    "    error_dict[\"max_y\"].append(data[8])\n",
    "    error_dict[\"max_z\"].append(data[9])\n",
    "    error_dict[\"error_ax\"].append(data[10])\n",
    "    error_dict[\"error_ay\"].append(data[11])\n",
    "    error_dict[\"error_az\"].append(data[12])\n",
    "    error_dict[\"mean_error_ang\"].append(data[13])"
   ]
  },
  {
   "cell_type": "markdown",
   "metadata": {},
   "source": [
    "## Check minimum graph"
   ]
  },
  {
   "cell_type": "code",
   "execution_count": 18,
   "metadata": {},
   "outputs": [],
   "source": [
    "key = \"mean_err\"\n",
    "\n",
    "index = np.argmin(error_dict[key])\n",
    "\n",
    "# index = 65\n",
    "camera_matrix = error_dict[\"mtx\"][index]\n",
    "dist_coeffs = error_dict[\"dist_coeffs\"][index]\n",
    "\n",
    "rvecs = []\n",
    "tvecs = []\n",
    "for _c, _i in zip(corners, ids):\n",
    "    if (_i is not None and len(_i) > 0) and all(\n",
    "        item in default_ids for item in np.array(_i)\n",
    "    ):\n",
    "        rotation_vectors, translation_vectors = estimate_pose_single_markers(\n",
    "            corners=_c,\n",
    "            marker_size=0.05,\n",
    "            camera_matrix=camera_matrix,\n",
    "            distortion_coefficients=dist_coeffs,\n",
    "        )\n",
    "        rvecs.append(rotation_vectors[0][0])\n",
    "        tvecs.append(translation_vectors[0][0])\n",
    "\n",
    "    else:\n",
    "        rvecs.append(np.array([np.nan, np.nan, np.nan]))\n",
    "        tvecs.append(np.array([np.nan, np.nan, np.nan]))\n",
    "\n",
    "tvecs = np.array(tvecs)\n",
    "rvecs = np.array(rvecs)\n",
    "\n",
    "t_dict = {\"x\": [], \"y\": [], \"z\": []}\n",
    "rmat = cv2.Rodrigues(rvecs[1])[0]\n",
    "ang_dict = {\"rx\": [], \"ry\": [], \"rz\": []}\n",
    "for i in range(len(tvecs)):\n",
    "    tvec = rmat.T @ (tvecs[i].reshape(3, 1) - tvecs[1].reshape(3, 1))\n",
    "    tvec = tvec.T[0]\n",
    "    t_dict[\"x\"].append(tvec[0])\n",
    "    t_dict[\"y\"].append(tvec[1])\n",
    "    t_dict[\"z\"].append(tvec[2])\n",
    "    _ang = R.from_matrix(rmat.T @ R.from_rotvec(rvecs[i]).as_matrix()).as_euler(\n",
    "        \"XYZ\", degrees=True\n",
    "    )\n",
    "    ang_dict[\"rx\"].append(_ang[0])\n",
    "    ang_dict[\"ry\"].append(_ang[1])\n",
    "    ang_dict[\"rz\"].append(_ang[2])"
   ]
  },
  {
   "cell_type": "code",
   "execution_count": 19,
   "metadata": {},
   "outputs": [
    {
     "data": {
      "text/plain": [
       "<matplotlib.legend.Legend at 0x2c833b94ed0>"
      ]
     },
     "execution_count": 19,
     "metadata": {},
     "output_type": "execute_result"
    },
    {
     "data": {
      "image/png": "[encoded data removed]",
      "text/plain": [
       "<Figure size 640x480 with 1 Axes>"
      ]
     },
     "metadata": {},
     "output_type": "display_data"
    }
   ],
   "source": [
    "plt.plot(ar_df[\"time\"], mocap_ip[\"x\"], label=\"mocap z\")\n",
    "plt.plot(ar_df[\"time\"], t_dict[\"x\"], label=\"aruco z\")\n",
    "plt.legend()"
   ]
  },
  {
   "cell_type": "code",
   "execution_count": 20,
   "metadata": {},
   "outputs": [
    {
     "data": {
      "text/plain": [
       "1361"
      ]
     },
     "execution_count": 20,
     "metadata": {},
     "output_type": "execute_result"
    }
   ],
   "source": [
    "_cumulative_error = (\n",
    "    np.array(error_dict[\"max_x\"])\n",
    "    + np.array(error_dict[\"max_y\"])\n",
    "    + np.array(error_dict[\"max_z\"])\n",
    ")\n",
    "np.argmin(_cumulative_error)"
   ]
  },
  {
   "cell_type": "code",
   "execution_count": 21,
   "metadata": {},
   "outputs": [
    {
     "data": {
      "text/plain": [
       "<matplotlib.legend.Legend at 0x2c834702d10>"
      ]
     },
     "execution_count": 21,
     "metadata": {},
     "output_type": "execute_result"
    },
    {
     "data": {
      "image/png": "[encoded data removed]",
      "text/plain": [
       "<Figure size 640x480 with 1 Axes>"
      ]
     },
     "metadata": {},
     "output_type": "display_data"
    }
   ],
   "source": [
    "plt.plot(ar_df[\"time\"], mocap_ip[\"z\"], label=\"mocap x\")\n",
    "plt.plot(ar_df[\"time\"], t_dict[\"z\"], label=\"aruco x\")\n",
    "plt.legend()"
   ]
  },
  {
   "cell_type": "code",
   "execution_count": 22,
   "metadata": {},
   "outputs": [],
   "source": [
    "mtx1 = error_dict[\"mtx\"][index]\n",
    "dist1 = error_dict[\"dist_coeffs\"][index]"
   ]
  },
  {
   "cell_type": "code",
   "execution_count": 23,
   "metadata": {},
   "outputs": [
    {
     "data": {
      "text/plain": [
       "array([[-0.22823925,  0.64657468,  0.01316165,  0.00876612, -0.66381247]])"
      ]
     },
     "execution_count": 23,
     "metadata": {},
     "output_type": "execute_result"
    }
   ],
   "source": [
    "error_dict[\"dist_coeffs\"][index]"
   ]
  },
  {
   "cell_type": "code",
   "execution_count": 25,
   "metadata": {},
   "outputs": [],
   "source": [
    "import toml\n",
    "\n",
    "data = toml.load(r\"E:\\CMC\\pyprojects\\programs_rpi\\programs\\calib_test.toml\")\n",
    "data[\"calibration\"][\"camera_matrix\"] = mtx1.tolist()\n",
    "data[\"calibration\"][\"dist_coeffs\"] = dist1.tolist()\n",
    "data[\"camera\"][\"resolution\"] = (1200, 480)\n",
    "with open(r\"E:\\CMC\\pyprojects\\programs_rpi\\programs\\calib_test_v2.toml\", \"w\") as f:\n",
    "    toml.dump(data, f)"
   ]
  },
  {
   "cell_type": "code",
   "execution_count": 26,
   "metadata": {},
   "outputs": [
    {
     "data": {
      "text/plain": [
       "0.0076628056547574305"
      ]
     },
     "execution_count": 26,
     "metadata": {},
     "output_type": "execute_result"
    }
   ],
   "source": [
    "error_dict[\"max_z\"][index]"
   ]
  },
  {
   "cell_type": "code",
   "execution_count": null,
   "metadata": {},
   "outputs": [],
   "source": []
  }
 ],
 "metadata": {
  "kernelspec": {
   "display_name": "gpy",
   "language": "python",
   "name": "python3"
  },
  "language_info": {
   "codemirror_mode": {
    "name": "ipython",
    "version": 3
   },
   "file_extension": ".py",
   "mimetype": "text/x-python",
   "name": "python",
   "nbconvert_exporter": "python",
   "pygments_lexer": "ipython3",
   "version": "3.11.9"
  }
 },
 "nbformat": 4,
 "nbformat_minor": 2
}
