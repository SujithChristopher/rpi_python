{
 "cells": [
  {
   "cell_type": "code",
   "execution_count": 14,
   "metadata": {},
   "outputs": [],
   "source": [
    "import cv2\n",
    "from cv2 import aruco\n",
    "import numpy as np\n",
    "import msgpack as mp\n",
    "import msgpack_numpy as mpn\n",
    "import os\n",
    "import matplotlib.pyplot as plt"
   ]
  },
  {
   "cell_type": "code",
   "execution_count": 15,
   "metadata": {},
   "outputs": [],
   "source": [
    "_pth = os.path.dirname(os.getcwd())\n",
    "_parent_folder = \"data\"\n",
    "_calib_folder_name = \"calib_aruco_undistort\"\n",
    "\n",
    "_webcam_calib_folder = os.path.join(\n",
    "    _pth, _parent_folder, \"calibration\", _calib_folder_name\n",
    ")\n",
    "_webcam_calib_video = os.path.join(_webcam_calib_folder, \"webcam_color.msgpack\")\n",
    "_webcam_calib_folder = os.path.join(_webcam_calib_folder)\n",
    "_webcam_calib_pth = os.path.join(_webcam_calib_folder, \"webcam_calibration.msgpack\")"
   ]
  },
  {
   "cell_type": "code",
   "execution_count": 16,
   "metadata": {},
   "outputs": [],
   "source": [
    "ARUCO_PARAMETERS = aruco.DetectorParameters()\n",
    "ARUCO_DICT = aruco.getPredefinedDictionary(aruco.DICT_ARUCO_ORIGINAL)\n",
    "detector = aruco.ArucoDetector(ARUCO_DICT, ARUCO_PARAMETERS)\n",
    "markerLength = 0.05\n",
    "markerSeperation = 0.01\n",
    "\n",
    "board = aruco.GridBoard(\n",
    "    size=[1, 1],\n",
    "    markerLength=markerLength,\n",
    "    markerSeparation=markerSeperation,\n",
    "    dictionary=ARUCO_DICT,\n",
    ")\n",
    "_video_pth = _webcam_calib_video\n",
    "_video_file = open(_video_pth, \"rb\")\n",
    "_video_data = mp.Unpacker(_video_file, object_hook=mpn.decode)\n",
    "_video_length = 0\n",
    "\n",
    "for _frame in _video_data:\n",
    "    _video_length += 1\n",
    "\n",
    "_video_file.close()"
   ]
  },
  {
   "cell_type": "code",
   "execution_count": 17,
   "metadata": {},
   "outputs": [],
   "source": [
    "_video_pth = _webcam_calib_video\n",
    "_video_file = open(_video_pth, \"rb\")\n",
    "_video_data = list(mp.Unpacker(_video_file, object_hook=mpn.decode))[1:]\n",
    "\n",
    "marker_corners = []\n",
    "marker_ids = []\n",
    "counter = 0\n",
    "rnd = np.random.choice(_video_length, 150, replace=False)\n",
    "for idx, data_points in enumerate(_video_data):\n",
    "    corners, ids = data_points\n",
    "\n",
    "    marker_corners.append(corners)\n",
    "    marker_ids.append(ids)\n",
    "    counter += 1\n",
    "\n",
    "_video_file.close()"
   ]
  },
  {
   "cell_type": "code",
   "execution_count": 18,
   "metadata": {},
   "outputs": [],
   "source": [
    "rnd = np.random.choice(_video_length, 50, replace=False)"
   ]
  },
  {
   "cell_type": "code",
   "execution_count": 19,
   "metadata": {},
   "outputs": [],
   "source": [
    "processed_image_points = []\n",
    "processed_object_points = []\n",
    "for _f in range(len(marker_corners)):\n",
    "    if _f in rnd:\n",
    "        current_object_points, current_image_points = board.matchImagePoints(\n",
    "            marker_corners[_f], marker_ids[_f]\n",
    "        )\n",
    "        try:\n",
    "            if current_object_points.any() and current_image_points.any():\n",
    "                if current_object_points.shape == np.zeros((4, 1, 3)).shape:\n",
    "                    processed_image_points.append(current_image_points)\n",
    "                    processed_object_points.append(current_object_points)\n",
    "        except:\n",
    "            pass"
   ]
  },
  {
   "cell_type": "code",
   "execution_count": 20,
   "metadata": {},
   "outputs": [],
   "source": [
    "processed_image_points = np.asarray(processed_image_points, dtype=np.float32)\n",
    "processed_object_points = np.asarray(processed_object_points, dtype=np.float32)"
   ]
  },
  {
   "cell_type": "code",
   "execution_count": 21,
   "metadata": {},
   "outputs": [],
   "source": [
    "mtx2 = np.eye(3, dtype=np.float32)\n",
    "dist2 = np.zeros(14, dtype=np.float32)"
   ]
  },
  {
   "cell_type": "markdown",
   "metadata": {},
   "source": []
  },
  {
   "cell_type": "code",
   "execution_count": 22,
   "metadata": {},
   "outputs": [],
   "source": [
    "# a, mtx1, dist1, b, c = cv2.calibrateCamera(\n",
    "#     processed_object_points,\n",
    "#     processed_image_points,\n",
    "#     (1200, 480),\n",
    "#     mtx2,\n",
    "#     dist2,\n",
    "#     flags=calibration_flags,\n",
    "#     criteria=term_criteria,\n",
    "# )\n",
    "ret, mtx1, dist1, _, _ = cv2.calibrateCamera(\n",
    "    processed_object_points, processed_image_points, (1200, 800), mtx2, dist2\n",
    ")"
   ]
  },
  {
   "cell_type": "code",
   "execution_count": 23,
   "metadata": {},
   "outputs": [],
   "source": [
    "import toml\n",
    "\n",
    "data = toml.load(\"/home/sujith/Documents/programs/settings.toml\")\n",
    "data[\"calibration\"][\"camera_matrix\"] = mtx1.tolist()\n",
    "data[\"calibration\"][\"dist_coeffs\"] = dist1.tolist()\n",
    "data[\"camera\"][\"resolution\"] = (1200, 800)\n",
    "with open(\"/home/sujith/Documents/programs/calib_undistort_aruco.toml\", \"w\") as f:\n",
    "    toml.dump(data, f)"
   ]
  },
  {
   "cell_type": "code",
   "execution_count": 24,
   "metadata": {},
   "outputs": [
    {
     "data": {
      "text/plain": [
       "array([[875.04155703,   0.        , 680.12234647],\n",
       "       [  0.        , 866.57886696, 347.30734302],\n",
       "       [  0.        ,   0.        ,   1.        ]])"
      ]
     },
     "execution_count": 24,
     "metadata": {},
     "output_type": "execute_result"
    }
   ],
   "source": [
    "mtx1"
   ]
  },
  {
   "cell_type": "code",
   "execution_count": 25,
   "metadata": {},
   "outputs": [
    {
     "data": {
      "text/plain": [
       "0.24498506180171767"
      ]
     },
     "execution_count": 25,
     "metadata": {},
     "output_type": "execute_result"
    }
   ],
   "source": [
    "ret"
   ]
  },
  {
   "cell_type": "code",
   "execution_count": null,
   "metadata": {},
   "outputs": [],
   "source": []
  }
 ],
 "metadata": {
  "kernelspec": {
   "display_name": "pyenv",
   "language": "python",
   "name": "python3"
  },
  "language_info": {
   "codemirror_mode": {
    "name": "ipython",
    "version": 3
   },
   "file_extension": ".py",
   "mimetype": "text/x-python",
   "name": "python",
   "nbconvert_exporter": "python",
   "pygments_lexer": "ipython3",
   "version": "3.11.2"
  }
 },
 "nbformat": 4,
 "nbformat_minor": 2
}
