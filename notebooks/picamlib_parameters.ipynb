{
 "cells": [
  {
   "cell_type": "code",
   "execution_count": 1,
   "metadata": {},
   "outputs": [
    {
     "name": "stderr",
     "output_type": "stream",
     "text": [
      "[1:21:20.604887422] [37511] \u001b[1;32m INFO \u001b[1;37mCamera \u001b[1;34mcamera_manager.cpp:284 \u001b[0mlibcamera v0.2.0+120-eb00c13d\n",
      "[1:21:20.618539508] [37528] \u001b[1;32m INFO \u001b[1;37mRPI \u001b[1;34mpisp.cpp:695 \u001b[0mlibpisp version v1.0.5 999da5acb4f4 17-04-2024 (14:29:29)\n",
      "[1:21:20.632143927] [37528] \u001b[1;32m INFO \u001b[1;37mRPI \u001b[1;34mpisp.cpp:1154 \u001b[0mRegistered camera /base/axi/pcie@120000/rp1/i2c@88000/imx708@1a to CFE device /dev/media1 and ISP device /dev/media0 using PiSP variant BCM2712_C0\n",
      "[1:21:20.637557846] [37511] \u001b[1;32m INFO \u001b[1;37mCamera \u001b[1;34mcamera_manager.cpp:284 \u001b[0mlibcamera v0.2.0+120-eb00c13d\n",
      "[1:21:20.657107723] [37532] \u001b[1;32m INFO \u001b[1;37mRPI \u001b[1;34mpisp.cpp:695 \u001b[0mlibpisp version v1.0.5 999da5acb4f4 17-04-2024 (14:29:29)\n",
      "[1:21:20.671722514] [37532] \u001b[1;32m INFO \u001b[1;37mRPI \u001b[1;34mpisp.cpp:1154 \u001b[0mRegistered camera /base/axi/pcie@120000/rp1/i2c@88000/imx708@1a to CFE device /dev/media1 and ISP device /dev/media0 using PiSP variant BCM2712_C0\n"
     ]
    }
   ],
   "source": [
    "from picamera2 import Picamera2\n",
    "import cv2\n",
    "import time\n",
    "\n",
    "picam = Picamera2()"
   ]
  },
  {
   "cell_type": "code",
   "execution_count": 3,
   "metadata": {},
   "outputs": [
    {
     "ename": "",
     "evalue": "",
     "output_type": "error",
     "traceback": [
      "\u001b[1;31mThe Kernel crashed while executing code in the current cell or a previous cell. \n",
      "\u001b[1;31mPlease review the code in the cell(s) to identify a possible cause of the failure. \n",
      "\u001b[1;31mClick <a href='https://aka.ms/vscodeJupyterKernelCrash'>here</a> for more info. \n",
      "\u001b[1;31mView Jupyter <a href='command:jupyter.viewOutput'>log</a> for further details."
     ]
    }
   ],
   "source": [
    "picam.set_controls({\"AfMode\": \"Manual\"})"
   ]
  },
  {
   "cell_type": "code",
   "execution_count": 5,
   "metadata": {},
   "outputs": [
    {
     "name": "stdout",
     "output_type": "stream",
     "text": [
      "(1536, 864)\n"
     ]
    }
   ],
   "source": [
    "sz = picam.sensor_modes[0][\"size\"]\n",
    "print(sz)\n",
    "WIDTH = sz[0]\n",
    "HEIGHT = sz[1]\n",
    "main = {\"size\": sz}\n",
    "controls = {\"FrameRate\": 100}\n",
    "config = picam.create_video_configuration(\n",
    "    {\"format\": \"YUV420\", \"size\": sz}, controls=controls\n",
    ")\n",
    "picam.start()"
   ]
  },
  {
   "cell_type": "code",
   "execution_count": 11,
   "metadata": {},
   "outputs": [
    {
     "data": {
      "text/plain": [
       "['__class__',\n",
       " '__delattr__',\n",
       " '__dir__',\n",
       " '__doc__',\n",
       " '__eq__',\n",
       " '__format__',\n",
       " '__ge__',\n",
       " '__getattribute__',\n",
       " '__getstate__',\n",
       " '__gt__',\n",
       " '__hash__',\n",
       " '__init__',\n",
       " '__init_subclass__',\n",
       " '__le__',\n",
       " '__lt__',\n",
       " '__module__',\n",
       " '__ne__',\n",
       " '__new__',\n",
       " '__reduce__',\n",
       " '__reduce_ex__',\n",
       " '__repr__',\n",
       " '__setattr__',\n",
       " '__sizeof__',\n",
       " '__str__',\n",
       " '__subclasshook__',\n",
       " 'compose',\n",
       " 'hflip',\n",
       " 'inverse',\n",
       " 'invert',\n",
       " 'transpose',\n",
       " 'vflip']"
      ]
     },
     "execution_count": 11,
     "metadata": {},
     "output_type": "execute_result"
    }
   ],
   "source": [
    "dir(picam.camera_configuration()[\"transform\"])"
   ]
  },
  {
   "cell_type": "code",
   "execution_count": 4,
   "metadata": {},
   "outputs": [
    {
     "name": "stdout",
     "output_type": "stream",
     "text": [
      "(480, 640, 4)\n",
      "FPS6.734348099137613\n",
      "(480, 640, 4)\n",
      "FPS14.472163175097261\n",
      "(480, 640, 4)\n",
      "FPS14.458447329081068\n"
     ]
    }
   ],
   "source": [
    "start_time = time.time()\n",
    "frame_count = 0\n",
    "while True:\n",
    "    img = picam.capture_array()\n",
    "    gray = img[:HEIGHT, :WIDTH]\n",
    "\n",
    "    elapsed_time = time.time() - start_time\n",
    "    frame_count += 1\n",
    "\n",
    "    cv2.imshow(\"asdf\", gray)\n",
    "\n",
    "    if cv2.waitKey(1) & 0xFF == ord(\"q\"):\n",
    "        break\n",
    "\n",
    "    if elapsed_time >= 1.0:\n",
    "        print(gray.shape)\n",
    "        fps = frame_count / elapsed_time\n",
    "        frame_count = 0\n",
    "        start_time = time.time()\n",
    "        print(f\"FPS{fps}\")\n",
    "\n",
    "cv2.destroyAllWindows()"
   ]
  },
  {
   "cell_type": "code",
   "execution_count": null,
   "metadata": {},
   "outputs": [],
   "source": []
  },
  {
   "cell_type": "code",
   "execution_count": null,
   "metadata": {},
   "outputs": [],
   "source": []
  }
 ],
 "metadata": {
  "kernelspec": {
   "display_name": "pyenv",
   "language": "python",
   "name": "python3"
  },
  "language_info": {
   "codemirror_mode": {
    "name": "ipython",
    "version": 3
   },
   "file_extension": ".py",
   "mimetype": "text/x-python",
   "name": "python",
   "nbconvert_exporter": "python",
   "pygments_lexer": "ipython3",
   "version": "3.11.2"
  }
 },
 "nbformat": 4,
 "nbformat_minor": 2
}
