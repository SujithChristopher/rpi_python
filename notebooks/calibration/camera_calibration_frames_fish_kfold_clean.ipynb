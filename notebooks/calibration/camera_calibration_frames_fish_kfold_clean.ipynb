{
 "cells": [
  {
   "cell_type": "markdown",
   "metadata": {},
   "source": [
    "# Analysis by using a second video"
   ]
  },
  {
   "cell_type": "code",
   "execution_count": 198,
   "metadata": {},
   "outputs": [],
   "source": [
    "import cv2\n",
    "from cv2 import aruco\n",
    "import numpy as np\n",
    "import msgpack as mp\n",
    "import msgpack_numpy as mpn\n",
    "import os\n",
    "import matplotlib.pyplot as plt\n",
    "from tqdm.auto import tqdm\n",
    "from joblib import Parallel, delayed\n",
    "import pandas as pd\n",
    "import toml"
   ]
  },
  {
   "cell_type": "code",
   "execution_count": 199,
   "metadata": {},
   "outputs": [
    {
     "data": {
      "text/plain": [
       "'e:\\\\CMC\\\\pyprojects\\\\programs_rpi\\\\rpi_python'"
      ]
     },
     "execution_count": 199,
     "metadata": {},
     "output_type": "execute_result"
    }
   ],
   "source": [
    "_working_dir = os.path.abspath('../../')\n",
    "_data_dir = \"data\"\n",
    "_fov = 160\n",
    "_working_dir"
   ]
  },
  {
   "cell_type": "markdown",
   "metadata": {},
   "source": [
    "# Calibration path"
   ]
  },
  {
   "cell_type": "code",
   "execution_count": 200,
   "metadata": {},
   "outputs": [
    {
     "data": {
      "text/plain": [
       "'e:\\\\CMC\\\\pyprojects\\\\programs_rpi\\\\rpi_python\\\\data\\\\calibration\\\\160_fov\\\\calib_mono_160fov_raw\\\\webcam_color.msgpack'"
      ]
     },
     "execution_count": 200,
     "metadata": {},
     "output_type": "execute_result"
    }
   ],
   "source": [
    "_calibration_folder = 'calib_mono_160fov_raw'\n",
    "_calibration_folder = os.path.join(_data_dir, \"calibration\", f\"{_fov}_fov\", _calibration_folder)\n",
    "_calibration_file_path = os.path.join(_working_dir, _calibration_folder, 'webcam_color.msgpack')\n",
    "_calibration_file_path"
   ]
  },
  {
   "cell_type": "code",
   "execution_count": 201,
   "metadata": {},
   "outputs": [
    {
     "data": {
      "text/plain": [
       "'e:\\\\CMC\\\\pyprojects\\\\programs_rpi\\\\rpi_python\\\\improved_fisheye_calibration_optimal.toml'"
      ]
     },
     "execution_count": 201,
     "metadata": {},
     "output_type": "execute_result"
    }
   ],
   "source": [
    "# Alternatively import calibration parameters from toml file\n",
    "_toml_pth = os.path.join(_working_dir, 'improved_fisheye_calibration_optimal.toml')\n",
    "_toml_pth"
   ]
  },
  {
   "cell_type": "markdown",
   "metadata": {},
   "source": [
    "# Movement data path / April tag recording path"
   ]
  },
  {
   "cell_type": "code",
   "execution_count": 202,
   "metadata": {},
   "outputs": [],
   "source": [
    "\n",
    "_folder_name = 'randomxyz_t0'\n",
    "_semi_parent = '3marker_complete_data'\n",
    "\n",
    "_recording_folder = os.path.join(_working_dir,_data_dir, \"recordings\",f'{_fov}_fov', _semi_parent, _folder_name)\n",
    "_movement_data_path = os.path.join(_recording_folder, 'webcam_color.msgpack')\n",
    "\n"
   ]
  },
  {
   "cell_type": "code",
   "execution_count": 203,
   "metadata": {},
   "outputs": [
    {
     "name": "stdout",
     "output_type": "stream",
     "text": [
      "video length,  2861\n"
     ]
    }
   ],
   "source": [
    "_ref_video_length = 0\n",
    "\n",
    "for _ in mp.Unpacker(open(_movement_data_path, \"rb\"), object_hook=mpn.decode):\n",
    "    _ref_video_length += 1\n",
    "\n",
    "print('video length, ', _ref_video_length)"
   ]
  },
  {
   "cell_type": "code",
   "execution_count": 204,
   "metadata": {},
   "outputs": [],
   "source": [
    "timestamp_file = os.path.join(_recording_folder, 'webcam_timestamp.msgpack')\n",
    "_ar_timestamp = list(mp.Unpacker(open(timestamp_file, \"rb\"), object_hook=mpn.decode))\n",
    "# _ar_timestamp = np.array(_ar_timestamp)"
   ]
  },
  {
   "cell_type": "code",
   "execution_count": 205,
   "metadata": {},
   "outputs": [],
   "source": [
    "_sync = np.array(_ar_timestamp).T[0]\n",
    "_sync = _sync.astype(int)\n",
    "_timestamps = np.array(_ar_timestamp).T[1]"
   ]
  },
  {
   "cell_type": "code",
   "execution_count": 206,
   "metadata": {},
   "outputs": [],
   "source": [
    "ARUCO_PARAMETERS = aruco.DetectorParameters()\n",
    "ARUCO_DICT = aruco.getPredefinedDictionary(aruco.DICT_APRILTAG_36h11)\n",
    "detector = aruco.ArucoDetector(ARUCO_DICT, ARUCO_PARAMETERS)\n",
    "markerLength = 0.05\n",
    "markerSeperation = 0.01\n",
    "\n",
    "board = aruco.GridBoard(\n",
    "    size=[1, 1],\n",
    "    markerLength=markerLength,\n",
    "    markerSeparation=markerSeperation,\n",
    "    dictionary=ARUCO_DICT,\n",
    ")\n",
    "\n",
    "def estimate_pose_single_markers(\n",
    "    corners, marker_size, camera_matrix, distortion_coefficients = np.zeros((5, 1))\n",
    "):\n",
    "    marker_points = np.array(\n",
    "        [\n",
    "            [-marker_size / 2, marker_size / 2, 0],\n",
    "            [marker_size / 2, marker_size / 2, 0],\n",
    "            [marker_size / 2, -marker_size / 2, 0],\n",
    "            [-marker_size / 2, -marker_size / 2, 0],\n",
    "        ],\n",
    "        dtype=np.float32,\n",
    "    )\n",
    "    rvecs, tvecs = [], []\n",
    "    for corner in corners:\n",
    "        _, r, t = cv2.solvePnP(\n",
    "            marker_points,\n",
    "            corner,\n",
    "            camera_matrix,\n",
    "            distortion_coefficients,\n",
    "            flags=cv2.SOLVEPNP_ITERATIVE,\n",
    "        )\n",
    "        if r is not None and t is not None:\n",
    "            rvecs.append(r.reshape(1, 3).tolist())\n",
    "            tvecs.append(t.reshape(1, 3).tolist())\n",
    "    return np.array(rvecs, dtype=np.float32), np.array(tvecs, dtype=np.float32)"
   ]
  },
  {
   "cell_type": "markdown",
   "metadata": {},
   "source": [
    "## load clalibration data"
   ]
  },
  {
   "cell_type": "code",
   "execution_count": 207,
   "metadata": {},
   "outputs": [],
   "source": [
    "# _calib_data = list(mp.Unpacker(open(_calibration_data, \"rb\"), object_hook=mpn.decode))"
   ]
  },
  {
   "cell_type": "code",
   "execution_count": 208,
   "metadata": {},
   "outputs": [],
   "source": [
    "_calib_data = toml.load(_toml_pth)\n",
    "\n",
    "matrix = np.array(_calib_data['calibration']['camera_matrix'], dtype=np.float32).reshape(3, 3)\n",
    "distortion = np.array(_calib_data['calibration']['dist_coeffs'], dtype=np.float32)"
   ]
  },
  {
   "cell_type": "code",
   "execution_count": 209,
   "metadata": {},
   "outputs": [
    {
     "data": {
      "text/plain": [
       "array([[1.2000002e-03, 0.0000000e+00, 1.2000001e+03],\n",
       "       [0.0000000e+00, 1.1980050e-03, 9.9999994e+02],\n",
       "       [0.0000000e+00, 0.0000000e+00, 1.0000000e+00]], dtype=float32)"
      ]
     },
     "execution_count": 209,
     "metadata": {},
     "output_type": "execute_result"
    }
   ],
   "source": [
    "# _calib_data\n",
    "\n",
    "_new_matrix = cv2.fisheye.estimateNewCameraMatrixForUndistortRectify(\n",
    "    matrix, distortion, (1200, 800), np.eye(3))\n",
    "_new_matrix"
   ]
  },
  {
   "cell_type": "code",
   "execution_count": 210,
   "metadata": {},
   "outputs": [],
   "source": [
    "def undistort_aruco_corners_fisheye(corners, camera_matrix, dist_coeffs):\n",
    "    \"\"\"\n",
    "    Undistort ArUco corners using fisheye camera model.\n",
    "    \n",
    "    Args:\n",
    "        corners: List of corner arrays from ArUco detection\n",
    "        camera_matrix: Original fisheye camera matrix\n",
    "        dist_coeffs: Fisheye distortion coefficients\n",
    "    \n",
    "    Returns:\n",
    "        undistorted_corners: List of undistorted corner arrays\n",
    "    \"\"\"\n",
    "    if corners is None or len(corners) == 0:\n",
    "        return corners\n",
    "    \n",
    "    undistorted_corners = []\n",
    "    \n",
    "    for corner_set in corners:\n",
    "        # Reshape corners to the format expected by undistortPoints\n",
    "        corner_points = corner_set.reshape(-1, 1, 2).astype(np.float32)\n",
    "        \n",
    "        # Undistort using fisheye model\n",
    "        undistorted_points = cv2.fisheye.undistortPoints(\n",
    "            corner_points,\n",
    "            camera_matrix,\n",
    "            dist_coeffs,\n",
    "            P=camera_matrix\n",
    "        )\n",
    "        \n",
    "        # Reshape back to original format\n",
    "        undistorted_corner_set = undistorted_points.reshape(corner_set.shape)\n",
    "        undistorted_corners.append(undistorted_corner_set)\n",
    "    \n",
    "    return undistorted_corners"
   ]
  },
  {
   "cell_type": "code",
   "execution_count": 211,
   "metadata": {},
   "outputs": [
    {
     "data": {
      "application/vnd.jupyter.widget-view+json": {
       "model_id": "c895bae7fff740028e26f6e463ab6b78",
       "version_major": 2,
       "version_minor": 0
      },
      "text/plain": [
       "0it [00:00, ?it/s]"
      ]
     },
     "metadata": {},
     "output_type": "display_data"
    }
   ],
   "source": [
    "\n",
    "ar_total_results = {'calib_idx':[], 'ar_data':[]}\n",
    "ar_results = {'corners': [], 'ids': [], 'rejected': [], 'rvecs': [], 'tvecs': []}\n",
    "vector_std = {'v1std':[], 'v2std':[], 'v3std':[], 'sum':[]}\n",
    "\n",
    "\n",
    "_frames = mp.Unpacker(open(_movement_data_path, \"rb\"), object_hook=mpn.decode)\n",
    "\n",
    "for idx, _frame in tqdm(enumerate(_frames)):\n",
    "    # _frame = cv2.rotate(_frame, cv2.ROTATE_180)\n",
    "    _frame = cv2.flip(_frame, 1)\n",
    "    res = detector.detectMarkers(_frame,)\n",
    "    \n",
    "    res = detector.refineDetectedMarkers(_frame, board, res[0], res[1], res[2])\n",
    "    \n",
    "    corners = undistort_aruco_corners_fisheye(res[0], matrix, distortion)\n",
    "    \n",
    "    # res[0] = cv2.undistortPoints(\n",
    "    #     res[0], matrix, distortion, P=_new_matrix)\n",
    "    \n",
    "    ar_results['corners'].append(corners)\n",
    "    ar_results['ids'].append(res[1].T.reshape(-1))\n",
    "    ar_results['rejected'].append(res[2])\n",
    "    \n",
    "    if res[0] is not None and len(res[0]) > 0:\n",
    "        rvecs, tvecs = estimate_pose_single_markers(\n",
    "            corners, markerLength, matrix, distortion\n",
    "        )\n",
    "        \n",
    "        # rvecs, tvecs = estimate_pose_single_markers(\n",
    "        #     res[0], markerLength, _new_matrix, np.zeros((5, 1))\n",
    "        # )\n",
    "        \n",
    "        ar_results['rvecs'].append(rvecs)\n",
    "        ar_results['tvecs'].append(tvecs)\n",
    "    \n",
    "    # if idx in _random_reference_frames_idx:\n",
    "    #     _frame = cv2.rotate(_frame, cv2.ROTATE_180)\n",
    "    #     _ref_frames.append(_frame)\n"
   ]
  },
  {
   "cell_type": "code",
   "execution_count": 212,
   "metadata": {},
   "outputs": [
    {
     "data": {
      "text/plain": [
       "array([12, 20, 14], dtype=int32)"
      ]
     },
     "execution_count": 212,
     "metadata": {},
     "output_type": "execute_result"
    }
   ],
   "source": [
    "ar_results['ids'][0]"
   ]
  },
  {
   "cell_type": "code",
   "execution_count": 213,
   "metadata": {},
   "outputs": [],
   "source": [
    "import numpy as np\n",
    "import cv2\n",
    "\n",
    "# Initialize the dictionary to store transformed translation vectors\n",
    "transformed_tvec = {'12': [], '14': [], '20': []}\n",
    "target_ids = [12, 14, 20]  # IDs we're interested in\n",
    "\n",
    "for _id in range(len(ar_results['ids'])):\n",
    "    sorted_ids = np.sort(ar_results['ids'][_id])\n",
    "    sorted_id_index = np.argsort(ar_results['ids'][_id])\n",
    "    _corners = np.array(ar_results['corners'][_id])[sorted_id_index]\n",
    "    _rvecs = ar_results['rvecs'][_id][sorted_id_index]\n",
    "    _tvecs = ar_results['tvecs'][_id][sorted_id_index]\n",
    "   \n",
    "    if _id == 0:\n",
    "        # Store initial reference frame (assuming first detected marker)\n",
    "        initial_rmat = cv2.Rodrigues(_rvecs[0])[0]\n",
    "        initial_tvec = _tvecs[0]\n",
    "    else:\n",
    "        # Transform all detected markers to reference frame\n",
    "        _temp_vec = _tvecs.reshape(-1, 3).T - initial_tvec.reshape(-1, 3).T\n",
    "        _temp = (initial_rmat.T @ _temp_vec).T\n",
    "        \n",
    "        # Create a mapping from detected IDs to their transformed positions\n",
    "        id_to_position = {}\n",
    "        for i, marker_id in enumerate(sorted_ids):\n",
    "            id_to_position[marker_id] = _temp[i]\n",
    "        \n",
    "        # For each target ID, append the transformed position or NaN if not detected\n",
    "        for target_id in target_ids:\n",
    "            if target_id in id_to_position:\n",
    "                transformed_tvec[str(target_id)].append(id_to_position[target_id])\n",
    "            else:\n",
    "                transformed_tvec[str(target_id)].append(np.full(3, np.nan))\n",
    "\n",
    "# Alternative approach using a more flexible data structure\n",
    "def process_aruco_detections(ar_results, target_ids=[12, 14, 20]):\n",
    "    \"\"\"\n",
    "    Process ArUco detection results, handling missing IDs gracefully.\n",
    "    \n",
    "    Args:\n",
    "        ar_results: Dictionary containing 'ids', 'corners', 'rvecs', 'tvecs'\n",
    "        target_ids: List of marker IDs we want to track\n",
    "    \n",
    "    Returns:\n",
    "        Dictionary with transformed translation vectors for each target ID\n",
    "    \"\"\"\n",
    "    transformed_tvec = {str(tid): [] for tid in target_ids}\n",
    "    initial_rmat = None\n",
    "    initial_tvec = None\n",
    "    \n",
    "    for frame_idx in range(len(ar_results['ids'])):\n",
    "        if ar_results['ids'][frame_idx] is None or len(ar_results['ids'][frame_idx]) == 0:\n",
    "            # No markers detected in this frame\n",
    "            for target_id in target_ids:\n",
    "                transformed_tvec[str(target_id)].append(np.full(3, np.nan))\n",
    "            continue\n",
    "            \n",
    "        # Sort detections by ID for consistency\n",
    "        sorted_indices = np.argsort(ar_results['ids'][frame_idx])\n",
    "        sorted_ids = ar_results['ids'][frame_idx][sorted_indices]\n",
    "        sorted_rvecs = ar_results['rvecs'][frame_idx][sorted_indices]\n",
    "        sorted_tvecs = ar_results['tvecs'][frame_idx][sorted_indices]\n",
    "        \n",
    "        # Initialize reference frame from first detection\n",
    "        if initial_rmat is None:\n",
    "            initial_rmat = cv2.Rodrigues(sorted_rvecs[0])[0]\n",
    "            initial_tvec = sorted_tvecs[0]\n",
    "            # For the first frame, just fill with NaN (or zeros if preferred)\n",
    "            for target_id in target_ids:\n",
    "                transformed_tvec[str(target_id)].append(np.full(3, np.nan))\n",
    "            continue\n",
    "        \n",
    "        # Transform all detected markers to reference frame\n",
    "        temp_vec = sorted_tvecs.reshape(-1, 3).T - initial_tvec.reshape(-1, 3).T\n",
    "        transformed_positions = (initial_rmat.T @ temp_vec).T\n",
    "        \n",
    "        # Create mapping from ID to transformed position\n",
    "        id_to_position = dict(zip(sorted_ids, transformed_positions))\n",
    "        \n",
    "        # Append results for each target ID\n",
    "        for target_id in target_ids:\n",
    "            if target_id in id_to_position:\n",
    "                transformed_tvec[str(target_id)].append(id_to_position[target_id])\n",
    "            else:\n",
    "                transformed_tvec[str(target_id)].append(np.full(3, np.nan))\n",
    "    \n",
    "    return transformed_tvec\n",
    "\n",
    "# Usage example:\n",
    "# transformed_tvec = process_aruco_detections(ar_results, target_ids=[12, 14, 20])\n",
    "\n",
    "# For handling NaN values later in your analysis:\n",
    "def clean_transformed_data(transformed_tvec):\n",
    "    \"\"\"Remove NaN entries and return valid data points with their indices.\"\"\"\n",
    "    cleaned_data = {}\n",
    "    for marker_id, positions in transformed_tvec.items():\n",
    "        positions_array = np.array(positions)\n",
    "        # Find rows where all values are not NaN\n",
    "        valid_mask = ~np.isnan(positions_array).all(axis=1)\n",
    "        cleaned_data[marker_id] = {\n",
    "            'positions': positions_array[valid_mask],\n",
    "            'frame_indices': np.where(valid_mask)[0]\n",
    "        }\n",
    "    return cleaned_data"
   ]
  },
  {
   "cell_type": "code",
   "execution_count": 214,
   "metadata": {},
   "outputs": [],
   "source": [
    "transformed_tvec = process_aruco_detections(ar_results, target_ids=[12, 14, 20])\n",
    "transformed_tvec = clean_transformed_data(transformed_tvec)"
   ]
  },
  {
   "cell_type": "code",
   "execution_count": 215,
   "metadata": {},
   "outputs": [
    {
     "data": {
      "text/plain": [
       "(2861, 2860)"
      ]
     },
     "execution_count": 215,
     "metadata": {},
     "output_type": "execute_result"
    }
   ],
   "source": [
    "len(_timestamps), len(transformed_tvec['12']['positions']), "
   ]
  },
  {
   "cell_type": "code",
   "execution_count": 216,
   "metadata": {},
   "outputs": [],
   "source": [
    "_start_pulse = 0\n",
    "_end_pulse = 0\n",
    "for idx, _s in enumerate(_sync):\n",
    "    if _s == 1:\n",
    "        _start_pulse = idx\n",
    "        break\n",
    "for idx, _s in enumerate(_sync[_start_pulse:]):\n",
    "    if _s == 0:\n",
    "        _end_pulse = idx\n",
    "        break\n"
   ]
  },
  {
   "cell_type": "code",
   "execution_count": 217,
   "metadata": {},
   "outputs": [],
   "source": [
    "_time_df = pd.DataFrame({\n",
    "    'time': _timestamps[:len(transformed_tvec['12']['positions'])],\n",
    "    '12_x': transformed_tvec['12']['positions'][:, 0],\n",
    "    '12_y': transformed_tvec['12']['positions'][:, 1],\n",
    "    '12_z': transformed_tvec['12']['positions'][:, 2],\n",
    "    # '14_x': transformed_tvec['14']['positions'][:, 0],\n",
    "    # '14_y': transformed_tvec['14']['positions'][:, 1],\n",
    "    # '14_z': transformed_tvec['14']['positions'][:, 2],\n",
    "    # '20_x': transformed_tvec['20']['positions'][:, 0],\n",
    "    # '20_y': transformed_tvec['20']['positions'][:, 1],\n",
    "    # '20_z': transformed_tvec['20']['positions'][:, 2],\n",
    "})\n",
    "# convert time column to datetime\n",
    "_time_df['time'] = pd.to_datetime(_time_df['time'])\n",
    "# _time_df = _time_df[_start_pulse:_end_pulse].reset_index()\n",
    "_time_df = _time_df[_start_pulse:].reset_index()"
   ]
  },
  {
   "cell_type": "markdown",
   "metadata": {},
   "source": [
    "# mocap path"
   ]
  },
  {
   "cell_type": "code",
   "execution_count": 218,
   "metadata": {},
   "outputs": [
    {
     "name": "stderr",
     "output_type": "stream",
     "text": [
      "e:\\CMC\\pyprojects\\programs_rpi\\rpi_python\\notebooks\\pd_support.py:326: FutureWarning: errors='ignore' is deprecated and will raise in a future version. Use to_numeric without passing `errors` and catch exceptions explicitly instead\n",
      "  _rb_df = _rb_df.apply(pd.to_numeric, errors=\"ignore\")\n"
     ]
    }
   ],
   "source": [
    "import sys\n",
    "sys.path.insert(1, os.path.dirname(os.getcwd()))\n",
    "from pd_support import *\n",
    "_mocap_pth = os.path.join(os.path.dirname(_movement_data_path), f\"{_folder_name}.csv\")\n",
    "\n",
    "mocap_df, st_time = read_rigid_body_csv(_mocap_pth)\n",
    "mocap_df = add_datetime_col(mocap_df, st_time, 'seconds')\n",
    "\n",
    "\n",
    "_time_offset = _time_df['time'][0] - mocap_df['time'][0]\n",
    "\n",
    "_time_df['time'] = _time_df['time'] - _time_offset"
   ]
  },
  {
   "cell_type": "code",
   "execution_count": 219,
   "metadata": {},
   "outputs": [],
   "source": [
    "rb_quat = mocap_df[['rb_ang_x', 'rb_ang_y', 'rb_ang_z', 'rb_ang_w']].values\n",
    "rb_pos = mocap_df[['rb_pos_x', 'rb_pos_y', 'rb_pos_z']].values"
   ]
  },
  {
   "cell_type": "code",
   "execution_count": 220,
   "metadata": {},
   "outputs": [],
   "source": [
    "from scipy.spatial.transform import Rotation as R\n",
    "rb_matrix = R.from_quat(rb_quat[0]).as_matrix()"
   ]
  },
  {
   "cell_type": "code",
   "execution_count": 221,
   "metadata": {},
   "outputs": [],
   "source": [
    "transformed_rb_pos = (rb_matrix.T @ (rb_pos.T - rb_pos[0].reshape(3,1))).T\n",
    "rotation_correction = R.from_euler('xyz', [90, 0, 0], degrees=True).as_matrix()\n",
    "transformed_rb_pos = (rotation_correction.T @ transformed_rb_pos.T).T"
   ]
  },
  {
   "cell_type": "markdown",
   "metadata": {},
   "source": [
    "# Interpolation"
   ]
  },
  {
   "cell_type": "code",
   "execution_count": 222,
   "metadata": {},
   "outputs": [
    {
     "data": {
      "image/png": "[encoded data removed]",
      "text/plain": [
       "<Figure size 1500x500 with 3 Axes>"
      ]
     },
     "metadata": {},
     "output_type": "display_data"
    }
   ],
   "source": [
    "from scipy.interpolate import interp1d\n",
    "\n",
    "_cols = ['12_x', '12_y', '12_z']\n",
    "\n",
    "_ar_df = pd.DataFrame()\n",
    "for _col in _cols:\n",
    "    _interp_func = interp1d(\n",
    "        _time_df['time'].astype(np.int64), \n",
    "        _time_df[_col], \n",
    "        bounds_error=False, \n",
    "        fill_value='extrapolate'\n",
    "    )\n",
    "    \n",
    "    _ar_df[_col] = _interp_func(mocap_df['time'].astype(np.int64))\n",
    "    \n",
    "# 3, 1 subplot \n",
    "\n",
    "plt.figure(figsize=(15, 5))\n",
    "plt.subplot(1, 3, 1)\n",
    "\n",
    "# Plot X positions\n",
    "plt.plot(mocap_df['time'], -1*_ar_df['12_x'], label='12 X Position')\n",
    "plt.plot(mocap_df['time'], transformed_rb_pos.T[0], label='RB X Position')\n",
    "plt.legend()\n",
    "plt.subplot(1, 3, 2)\n",
    "# Plot Y positions\n",
    "plt.plot(mocap_df['time'], _ar_df['12_y'], label='12 Y Position')\n",
    "plt.plot(mocap_df['time'], transformed_rb_pos.T[1], label='RB Y Position')\n",
    "plt.legend()\n",
    "plt.subplot(1, 3, 3)\n",
    "# Plot Z positions\n",
    "plt.plot(mocap_df['time'], -_ar_df['12_z'], label='12 Z Position')\n",
    "plt.plot(mocap_df['time'], transformed_rb_pos.T[2], label='RB Z Position')\n",
    "plt.legend()\n",
    "plt.tight_layout()"
   ]
  },
  {
   "cell_type": "markdown",
   "metadata": {},
   "source": [
    "# Error plots"
   ]
  },
  {
   "cell_type": "code",
   "execution_count": 223,
   "metadata": {},
   "outputs": [],
   "source": [
    "error_df = pd.DataFrame({\n",
    "    '12_x': np.abs(-1*_ar_df['12_x'] - transformed_rb_pos.T[0])\n",
    "    , '12_y': np.abs(_ar_df['12_y'] - transformed_rb_pos.T[1])\n",
    "    , '12_z': np.abs(-_ar_df['12_z'] - transformed_rb_pos.T[2])\n",
    "})"
   ]
  },
  {
   "cell_type": "code",
   "execution_count": 224,
   "metadata": {},
   "outputs": [
    {
     "data": {
      "text/plain": [
       "<Axes: >"
      ]
     },
     "execution_count": 224,
     "metadata": {},
     "output_type": "execute_result"
    },
    {
     "data": {
      "image/png": "[encoded data removed]",
      "text/plain": [
       "<Figure size 1500x500 with 1 Axes>"
      ]
     },
     "metadata": {},
     "output_type": "display_data"
    }
   ],
   "source": [
    "# error box plots\n",
    "import seaborn as sns\n",
    "plt.figure(figsize=(15, 5))\n",
    "sns.boxplot(data=error_df)\n",
    "\n"
   ]
  },
  {
   "cell_type": "code",
   "execution_count": null,
   "metadata": {},
   "outputs": [],
   "source": []
  }
 ],
 "metadata": {
  "kernelspec": {
   "display_name": "py12",
   "language": "python",
   "name": "python3"
  },
  "language_info": {
   "codemirror_mode": {
    "name": "ipython",
    "version": 3
   },
   "file_extension": ".py",
   "mimetype": "text/x-python",
   "name": "python",
   "nbconvert_exporter": "python",
   "pygments_lexer": "ipython3",
   "version": "3.12.4"
  }
 },
 "nbformat": 4,
 "nbformat_minor": 2
}
