{
 "cells": [
  {
   "cell_type": "markdown",
   "metadata": {},
   "source": [
    "# Analysis by using a second video"
   ]
  },
  {
   "cell_type": "code",
   "execution_count": 32,
   "metadata": {},
   "outputs": [],
   "source": [
    "import cv2\n",
    "from cv2 import aruco\n",
    "import numpy as np\n",
    "import msgpack as mp\n",
    "import msgpack_numpy as mpn\n",
    "import os\n",
    "import matplotlib.pyplot as plt\n",
    "from tqdm.auto import tqdm\n",
    "from joblib import Parallel, delayed\n",
    "import pandas as pd"
   ]
  },
  {
   "cell_type": "code",
   "execution_count": 33,
   "metadata": {},
   "outputs": [],
   "source": [
    "_pth = os.path.dirname(os.getcwd())\n",
    "_parent_folder = \"data\"\n",
    "_calib_folder_name = \"calib_mono_160fov2\"\n",
    "_recording_folder_name = \"3marker_complete_data\"\n",
    "\n",
    "_webcam_calib_folder = os.path.join(\n",
    "    _pth,'..', _parent_folder, \"recordings_160fov2\", _calib_folder_name\n",
    ")\n",
    "_webcam_calib_folder = r'E:\\CMC\\pyprojects\\programs_rpi\\rpi_python\\data\\recordings_160fov\\3marker_complete_data\\3marker_april_mono_160fov_3'\n",
    "\n",
    "_reference_recording_folder = os.path.join(\n",
    "    _pth, '..', _parent_folder, _recording_folder_name, 'recordings_160fov2',\n",
    ")\n",
    "# _reference_file = os.path.join(_reference_recording_folder, \"webcam_color.msgpack\")\n",
    "_reference_file = os.path.join(r'E:\\CMC\\pyprojects\\programs_rpi\\rpi_python\\data\\recordings4\\randomxyz_t0', \"webcam_color.msgpack\")\n",
    "\n",
    "# for loading 9000 values\n",
    "_calibration_data = os.path.join(_webcam_calib_folder, 'calibration_data.msgpack')\n",
    "\n",
    "# for loading just 100 points\n",
    "# _calibration_data = os.path.join(_webcam_calib_folder, 'calibration_data_100values.msgpack')\n"
   ]
  },
  {
   "cell_type": "code",
   "execution_count": 34,
   "metadata": {},
   "outputs": [
    {
     "name": "stdout",
     "output_type": "stream",
     "text": [
      "video length,  2861\n"
     ]
    }
   ],
   "source": [
    "_ref_video_length = 0\n",
    "\n",
    "for _ in mp.Unpacker(open(_reference_file, \"rb\"), object_hook=mpn.decode):\n",
    "    _ref_video_length += 1\n",
    "\n",
    "print('video length, ', _ref_video_length)"
   ]
  },
  {
   "cell_type": "code",
   "execution_count": 35,
   "metadata": {},
   "outputs": [],
   "source": [
    "_ar_timestamp_file = os.path.join(\n",
    "    r\"E:\\CMC\\pyprojects\\programs_rpi\\rpi_python\\data\\recordings3\\linearxz_t0\", 'webcam_timestamp.msgpack')\n",
    "_ar_timestamp = list(mp.Unpacker(open(_ar_timestamp_file, \"rb\"), object_hook=mpn.decode))\n",
    "# _ar_timestamp = np.array(_ar_timestamp)"
   ]
  },
  {
   "cell_type": "code",
   "execution_count": 36,
   "metadata": {},
   "outputs": [],
   "source": [
    "_sync = np.array(_ar_timestamp).T[0]\n",
    "_timestamps = np.array(_ar_timestamp).T[1]"
   ]
  },
  {
   "cell_type": "code",
   "execution_count": 37,
   "metadata": {},
   "outputs": [],
   "source": [
    "ARUCO_PARAMETERS = aruco.DetectorParameters()\n",
    "ARUCO_DICT = aruco.getPredefinedDictionary(aruco.DICT_APRILTAG_36h11)\n",
    "detector = aruco.ArucoDetector(ARUCO_DICT, ARUCO_PARAMETERS)\n",
    "markerLength = 0.05\n",
    "markerSeperation = 0.01\n",
    "\n",
    "board = aruco.GridBoard(\n",
    "    size=[1, 1],\n",
    "    markerLength=markerLength,\n",
    "    markerSeparation=markerSeperation,\n",
    "    dictionary=ARUCO_DICT,\n",
    ")\n",
    "\n",
    "def estimate_pose_single_markers(\n",
    "    corners, marker_size, camera_matrix, distortion_coefficients = np.zeros((5, 1))\n",
    "):\n",
    "    marker_points = np.array(\n",
    "        [\n",
    "            [-marker_size / 2, marker_size / 2, 0],\n",
    "            [marker_size / 2, marker_size / 2, 0],\n",
    "            [marker_size / 2, -marker_size / 2, 0],\n",
    "            [-marker_size / 2, -marker_size / 2, 0],\n",
    "        ],\n",
    "        dtype=np.float32,\n",
    "    )\n",
    "    rvecs, tvecs = [], []\n",
    "    for corner in corners:\n",
    "        _, r, t = cv2.solvePnP(\n",
    "            marker_points,\n",
    "            corner,\n",
    "            camera_matrix,\n",
    "            distortion_coefficients,\n",
    "            flags=cv2.SOLVEPNP_ITERATIVE,\n",
    "        )\n",
    "        if r is not None and t is not None:\n",
    "            rvecs.append(r.reshape(1, 3).tolist())\n",
    "            tvecs.append(t.reshape(1, 3).tolist())\n",
    "    return np.array(rvecs, dtype=np.float32), np.array(tvecs, dtype=np.float32)"
   ]
  },
  {
   "cell_type": "markdown",
   "metadata": {},
   "source": [
    "## load clalibration data"
   ]
  },
  {
   "cell_type": "code",
   "execution_count": 38,
   "metadata": {},
   "outputs": [],
   "source": [
    "_calib_data = list(mp.Unpacker(open(_calibration_data, \"rb\"), object_hook=mpn.decode))"
   ]
  },
  {
   "cell_type": "code",
   "execution_count": 39,
   "metadata": {},
   "outputs": [],
   "source": [
    "import toml\n",
    "_calib_data = toml.load(r'E:\\CMC\\pyprojects\\programs_rpi\\rpi_python\\optimized_fisheye_calibration.toml')\n",
    "\n",
    "matrix = np.array(_calib_data['calibration']['camera_matrix'], dtype=np.float32).reshape(3, 3)\n",
    "distortion = np.array(_calib_data['calibration']['dist_coeffs'], dtype=np.float32)"
   ]
  },
  {
   "cell_type": "code",
   "execution_count": 40,
   "metadata": {},
   "outputs": [
    {
     "data": {
      "text/plain": [
       "array([[470.6927 ,   0.     , 752.7785 ],\n",
       "       [  0.     , 474.29047, 305.30548],\n",
       "       [  0.     ,   0.     ,   1.     ]], dtype=float32)"
      ]
     },
     "execution_count": 40,
     "metadata": {},
     "output_type": "execute_result"
    }
   ],
   "source": [
    "# _calib_data\n",
    "\n",
    "_new_matrix = cv2.fisheye.estimateNewCameraMatrixForUndistortRectify(\n",
    "    matrix, distortion, (1200, 800), np.eye(3))\n",
    "_new_matrix"
   ]
  },
  {
   "cell_type": "code",
   "execution_count": 41,
   "metadata": {},
   "outputs": [],
   "source": [
    "def undistort_aruco_corners_fisheye(corners, camera_matrix, dist_coeffs):\n",
    "    \"\"\"\n",
    "    Undistort ArUco corners using fisheye camera model.\n",
    "    \n",
    "    Args:\n",
    "        corners: List of corner arrays from ArUco detection\n",
    "        camera_matrix: Original fisheye camera matrix\n",
    "        dist_coeffs: Fisheye distortion coefficients\n",
    "    \n",
    "    Returns:\n",
    "        undistorted_corners: List of undistorted corner arrays\n",
    "    \"\"\"\n",
    "    if corners is None or len(corners) == 0:\n",
    "        return corners\n",
    "    \n",
    "    undistorted_corners = []\n",
    "    \n",
    "    for corner_set in corners:\n",
    "        # Reshape corners to the format expected by undistortPoints\n",
    "        corner_points = corner_set.reshape(-1, 1, 2).astype(np.float32)\n",
    "        \n",
    "        # Undistort using fisheye model\n",
    "        undistorted_points = cv2.fisheye.undistortPoints(\n",
    "            corner_points,\n",
    "            camera_matrix,\n",
    "            dist_coeffs,\n",
    "            P=camera_matrix\n",
    "        )\n",
    "        \n",
    "        # Reshape back to original format\n",
    "        undistorted_corner_set = undistorted_points.reshape(corner_set.shape)\n",
    "        undistorted_corners.append(undistorted_corner_set)\n",
    "    \n",
    "    return undistorted_corners"
   ]
  },
  {
   "cell_type": "code",
   "execution_count": 42,
   "metadata": {},
   "outputs": [
    {
     "data": {
      "application/vnd.jupyter.widget-view+json": {
       "model_id": "01d219c5c02f4f839d8434e6d08da8c9",
       "version_major": 2,
       "version_minor": 0
      },
      "text/plain": [
       "0it [00:00, ?it/s]"
      ]
     },
     "metadata": {},
     "output_type": "display_data"
    }
   ],
   "source": [
    "# selecting random 50 frames\n",
    "np.random.seed(9)\n",
    "_random_reference_frames_idx = np.random.choice(_ref_video_length, 300)\n",
    "\n",
    "_ref_data = mp.Unpacker(open(_reference_file, \"rb\"), object_hook=mpn.decode)\n",
    "_timestamp_data = mp.Unpacker(open(r'E:\\CMC\\pyprojects\\programs_rpi\\rpi_python\\data\\recordings4\\randomxyz_t0\\webcam_timestamp.msgpack', \"rb\"), object_hook=mpn.decode)\n",
    "\n",
    "# _ref_frames = []\n",
    "\n",
    "ar_total_results = {'calib_idx':[], 'ar_data':[]}\n",
    "ar_results = {'corners': [], 'ids': [], 'rejected': [], 'rvecs': [], 'tvecs': []}\n",
    "vector_std = {'v1std':[], 'v2std':[], 'v3std':[], 'sum':[]}\n",
    "\n",
    "_timestamp = list(_timestamp_data)\n",
    "\n",
    "for idx, _frame in tqdm(enumerate(_ref_data)):\n",
    "    # _frame = cv2.rotate(_frame, cv2.ROTATE_180)\n",
    "    _frame = cv2.flip(_frame, 1)\n",
    "    res = detector.detectMarkers(_frame,)\n",
    "    \n",
    "    res = detector.refineDetectedMarkers(_frame, board, res[0], res[1], res[2])\n",
    "    \n",
    "    corners = undistort_aruco_corners_fisheye(res[0], matrix, distortion)\n",
    "    \n",
    "    # res[0] = cv2.undistortPoints(\n",
    "    #     res[0], matrix, distortion, P=_new_matrix)\n",
    "    \n",
    "    ar_results['corners'].append(corners)\n",
    "    ar_results['ids'].append(res[1].T.reshape(-1))\n",
    "    ar_results['rejected'].append(res[2])\n",
    "    \n",
    "    if res[0] is not None and len(res[0]) > 0:\n",
    "        rvecs, tvecs = estimate_pose_single_markers(\n",
    "            corners, markerLength, matrix, distortion\n",
    "        )\n",
    "        \n",
    "        # rvecs, tvecs = estimate_pose_single_markers(\n",
    "        #     res[0], markerLength, _new_matrix, np.zeros((5, 1))\n",
    "        # )\n",
    "        \n",
    "        ar_results['rvecs'].append(rvecs)\n",
    "        ar_results['tvecs'].append(tvecs)\n",
    "    \n",
    "    # if idx in _random_reference_frames_idx:\n",
    "    #     _frame = cv2.rotate(_frame, cv2.ROTATE_180)\n",
    "    #     _ref_frames.append(_frame)\n"
   ]
  },
  {
   "cell_type": "code",
   "execution_count": 43,
   "metadata": {},
   "outputs": [
    {
     "data": {
      "text/plain": [
       "array([12, 20, 14], dtype=int32)"
      ]
     },
     "execution_count": 43,
     "metadata": {},
     "output_type": "execute_result"
    }
   ],
   "source": [
    "ar_results['ids'][0]"
   ]
  },
  {
   "cell_type": "code",
   "execution_count": 44,
   "metadata": {},
   "outputs": [],
   "source": [
    "import numpy as np\n",
    "import cv2\n",
    "\n",
    "# Initialize the dictionary to store transformed translation vectors\n",
    "transformed_tvec = {'12': [], '14': [], '20': []}\n",
    "target_ids = [12, 14, 20]  # IDs we're interested in\n",
    "\n",
    "for _id in range(len(ar_results['ids'])):\n",
    "    sorted_ids = np.sort(ar_results['ids'][_id])\n",
    "    sorted_id_index = np.argsort(ar_results['ids'][_id])\n",
    "    _corners = np.array(ar_results['corners'][_id])[sorted_id_index]\n",
    "    _rvecs = ar_results['rvecs'][_id][sorted_id_index]\n",
    "    _tvecs = ar_results['tvecs'][_id][sorted_id_index]\n",
    "   \n",
    "    if _id == 0:\n",
    "        # Store initial reference frame (assuming first detected marker)\n",
    "        initial_rmat = cv2.Rodrigues(_rvecs[0])[0]\n",
    "        initial_tvec = _tvecs[0]\n",
    "    else:\n",
    "        # Transform all detected markers to reference frame\n",
    "        _temp_vec = _tvecs.reshape(-1, 3).T - initial_tvec.reshape(-1, 3).T\n",
    "        _temp = (initial_rmat.T @ _temp_vec).T\n",
    "        \n",
    "        # Create a mapping from detected IDs to their transformed positions\n",
    "        id_to_position = {}\n",
    "        for i, marker_id in enumerate(sorted_ids):\n",
    "            id_to_position[marker_id] = _temp[i]\n",
    "        \n",
    "        # For each target ID, append the transformed position or NaN if not detected\n",
    "        for target_id in target_ids:\n",
    "            if target_id in id_to_position:\n",
    "                transformed_tvec[str(target_id)].append(id_to_position[target_id])\n",
    "            else:\n",
    "                transformed_tvec[str(target_id)].append(np.full(3, np.nan))\n",
    "\n",
    "# Alternative approach using a more flexible data structure\n",
    "def process_aruco_detections(ar_results, target_ids=[12, 14, 20]):\n",
    "    \"\"\"\n",
    "    Process ArUco detection results, handling missing IDs gracefully.\n",
    "    \n",
    "    Args:\n",
    "        ar_results: Dictionary containing 'ids', 'corners', 'rvecs', 'tvecs'\n",
    "        target_ids: List of marker IDs we want to track\n",
    "    \n",
    "    Returns:\n",
    "        Dictionary with transformed translation vectors for each target ID\n",
    "    \"\"\"\n",
    "    transformed_tvec = {str(tid): [] for tid in target_ids}\n",
    "    initial_rmat = None\n",
    "    initial_tvec = None\n",
    "    \n",
    "    for frame_idx in range(len(ar_results['ids'])):\n",
    "        if ar_results['ids'][frame_idx] is None or len(ar_results['ids'][frame_idx]) == 0:\n",
    "            # No markers detected in this frame\n",
    "            for target_id in target_ids:\n",
    "                transformed_tvec[str(target_id)].append(np.full(3, np.nan))\n",
    "            continue\n",
    "            \n",
    "        # Sort detections by ID for consistency\n",
    "        sorted_indices = np.argsort(ar_results['ids'][frame_idx])\n",
    "        sorted_ids = ar_results['ids'][frame_idx][sorted_indices]\n",
    "        sorted_rvecs = ar_results['rvecs'][frame_idx][sorted_indices]\n",
    "        sorted_tvecs = ar_results['tvecs'][frame_idx][sorted_indices]\n",
    "        \n",
    "        # Initialize reference frame from first detection\n",
    "        if initial_rmat is None:\n",
    "            initial_rmat = cv2.Rodrigues(sorted_rvecs[0])[0]\n",
    "            initial_tvec = sorted_tvecs[0]\n",
    "            # For the first frame, just fill with NaN (or zeros if preferred)\n",
    "            for target_id in target_ids:\n",
    "                transformed_tvec[str(target_id)].append(np.full(3, np.nan))\n",
    "            continue\n",
    "        \n",
    "        # Transform all detected markers to reference frame\n",
    "        temp_vec = sorted_tvecs.reshape(-1, 3).T - initial_tvec.reshape(-1, 3).T\n",
    "        transformed_positions = (initial_rmat.T @ temp_vec).T\n",
    "        \n",
    "        # Create mapping from ID to transformed position\n",
    "        id_to_position = dict(zip(sorted_ids, transformed_positions))\n",
    "        \n",
    "        # Append results for each target ID\n",
    "        for target_id in target_ids:\n",
    "            if target_id in id_to_position:\n",
    "                transformed_tvec[str(target_id)].append(id_to_position[target_id])\n",
    "            else:\n",
    "                transformed_tvec[str(target_id)].append(np.full(3, np.nan))\n",
    "    \n",
    "    return transformed_tvec\n",
    "\n",
    "# Usage example:\n",
    "# transformed_tvec = process_aruco_detections(ar_results, target_ids=[12, 14, 20])\n",
    "\n",
    "# For handling NaN values later in your analysis:\n",
    "def clean_transformed_data(transformed_tvec):\n",
    "    \"\"\"Remove NaN entries and return valid data points with their indices.\"\"\"\n",
    "    cleaned_data = {}\n",
    "    for marker_id, positions in transformed_tvec.items():\n",
    "        positions_array = np.array(positions)\n",
    "        # Find rows where all values are not NaN\n",
    "        valid_mask = ~np.isnan(positions_array).all(axis=1)\n",
    "        cleaned_data[marker_id] = {\n",
    "            'positions': positions_array[valid_mask],\n",
    "            'frame_indices': np.where(valid_mask)[0]\n",
    "        }\n",
    "    return cleaned_data"
   ]
  },
  {
   "cell_type": "code",
   "execution_count": 45,
   "metadata": {},
   "outputs": [],
   "source": [
    "transformed_tvec = process_aruco_detections(ar_results, target_ids=[12, 14, 20])\n",
    "transformed_tvec = clean_transformed_data(transformed_tvec)"
   ]
  },
  {
   "cell_type": "code",
   "execution_count": 46,
   "metadata": {},
   "outputs": [
    {
     "data": {
      "text/plain": [
       "(4383, 2860)"
      ]
     },
     "execution_count": 46,
     "metadata": {},
     "output_type": "execute_result"
    }
   ],
   "source": [
    "len(_timestamps), len(transformed_tvec['12']['positions']), "
   ]
  },
  {
   "cell_type": "code",
   "execution_count": 47,
   "metadata": {},
   "outputs": [],
   "source": [
    "_time_df = pd.DataFrame({\n",
    "    'time': _timestamps[:len(transformed_tvec['12']['positions'])],\n",
    "    '12_x': transformed_tvec['12']['positions'][:, 0],\n",
    "    '12_y': transformed_tvec['12']['positions'][:, 1],\n",
    "    '12_z': transformed_tvec['12']['positions'][:, 2],\n",
    "    # '14_x': transformed_tvec['14']['positions'][:, 0],\n",
    "    # '14_y': transformed_tvec['14']['positions'][:, 1],\n",
    "    # '14_z': transformed_tvec['14']['positions'][:, 2],\n",
    "    # '20_x': transformed_tvec['20']['positions'][:, 0],\n",
    "    # '20_y': transformed_tvec['20']['positions'][:, 1],\n",
    "    # '20_z': transformed_tvec['20']['positions'][:, 2],\n",
    "})\n",
    "    "
   ]
  },
  {
   "cell_type": "code",
   "execution_count": 48,
   "metadata": {},
   "outputs": [],
   "source": [
    "# convert time column to datetime\n",
    "_time_df['time'] = pd.to_datetime(_time_df['time'])"
   ]
  },
  {
   "cell_type": "code",
   "execution_count": 49,
   "metadata": {},
   "outputs": [
    {
     "data": {
      "text/html": [
       "<div>\n",
       "<style scoped>\n",
       "    .dataframe tbody tr th:only-of-type {\n",
       "        vertical-align: middle;\n",
       "    }\n",
       "\n",
       "    .dataframe tbody tr th {\n",
       "        vertical-align: top;\n",
       "    }\n",
       "\n",
       "    .dataframe thead th {\n",
       "        text-align: right;\n",
       "    }\n",
       "</style>\n",
       "<table border=\"1\" class=\"dataframe\">\n",
       "  <thead>\n",
       "    <tr style=\"text-align: right;\">\n",
       "      <th></th>\n",
       "      <th>time</th>\n",
       "      <th>12_x</th>\n",
       "      <th>12_y</th>\n",
       "      <th>12_z</th>\n",
       "    </tr>\n",
       "  </thead>\n",
       "  <tbody>\n",
       "    <tr>\n",
       "      <th>0</th>\n",
       "      <td>2025-08-01 12:48:22.046482</td>\n",
       "      <td>0.000098</td>\n",
       "      <td>0.000338</td>\n",
       "      <td>-0.001712</td>\n",
       "    </tr>\n",
       "    <tr>\n",
       "      <th>1</th>\n",
       "      <td>2025-08-01 12:48:22.058716</td>\n",
       "      <td>0.000098</td>\n",
       "      <td>0.000338</td>\n",
       "      <td>-0.001712</td>\n",
       "    </tr>\n",
       "    <tr>\n",
       "      <th>2</th>\n",
       "      <td>2025-08-01 12:48:22.065701</td>\n",
       "      <td>0.000098</td>\n",
       "      <td>0.000338</td>\n",
       "      <td>-0.001712</td>\n",
       "    </tr>\n",
       "    <tr>\n",
       "      <th>3</th>\n",
       "      <td>2025-08-01 12:48:22.080447</td>\n",
       "      <td>0.000098</td>\n",
       "      <td>0.000338</td>\n",
       "      <td>-0.001712</td>\n",
       "    </tr>\n",
       "    <tr>\n",
       "      <th>4</th>\n",
       "      <td>2025-08-01 12:48:22.094076</td>\n",
       "      <td>0.000098</td>\n",
       "      <td>0.000338</td>\n",
       "      <td>-0.001712</td>\n",
       "    </tr>\n",
       "    <tr>\n",
       "      <th>...</th>\n",
       "      <td>...</td>\n",
       "      <td>...</td>\n",
       "      <td>...</td>\n",
       "      <td>...</td>\n",
       "    </tr>\n",
       "    <tr>\n",
       "      <th>2855</th>\n",
       "      <td>2025-08-01 12:48:50.601828</td>\n",
       "      <td>0.053633</td>\n",
       "      <td>0.013282</td>\n",
       "      <td>0.053297</td>\n",
       "    </tr>\n",
       "    <tr>\n",
       "      <th>2856</th>\n",
       "      <td>2025-08-01 12:48:50.611124</td>\n",
       "      <td>0.053606</td>\n",
       "      <td>0.013477</td>\n",
       "      <td>0.053452</td>\n",
       "    </tr>\n",
       "    <tr>\n",
       "      <th>2857</th>\n",
       "      <td>2025-08-01 12:48:50.619094</td>\n",
       "      <td>0.053606</td>\n",
       "      <td>0.013477</td>\n",
       "      <td>0.053452</td>\n",
       "    </tr>\n",
       "    <tr>\n",
       "      <th>2858</th>\n",
       "      <td>2025-08-01 12:48:50.631226</td>\n",
       "      <td>0.053606</td>\n",
       "      <td>0.013477</td>\n",
       "      <td>0.053452</td>\n",
       "    </tr>\n",
       "    <tr>\n",
       "      <th>2859</th>\n",
       "      <td>2025-08-01 12:48:50.640699</td>\n",
       "      <td>0.053861</td>\n",
       "      <td>0.013214</td>\n",
       "      <td>0.054079</td>\n",
       "    </tr>\n",
       "  </tbody>\n",
       "</table>\n",
       "<p>2860 rows × 4 columns</p>\n",
       "</div>"
      ],
      "text/plain": [
       "                           time      12_x      12_y      12_z\n",
       "0    2025-08-01 12:48:22.046482  0.000098  0.000338 -0.001712\n",
       "1    2025-08-01 12:48:22.058716  0.000098  0.000338 -0.001712\n",
       "2    2025-08-01 12:48:22.065701  0.000098  0.000338 -0.001712\n",
       "3    2025-08-01 12:48:22.080447  0.000098  0.000338 -0.001712\n",
       "4    2025-08-01 12:48:22.094076  0.000098  0.000338 -0.001712\n",
       "...                         ...       ...       ...       ...\n",
       "2855 2025-08-01 12:48:50.601828  0.053633  0.013282  0.053297\n",
       "2856 2025-08-01 12:48:50.611124  0.053606  0.013477  0.053452\n",
       "2857 2025-08-01 12:48:50.619094  0.053606  0.013477  0.053452\n",
       "2858 2025-08-01 12:48:50.631226  0.053606  0.013477  0.053452\n",
       "2859 2025-08-01 12:48:50.640699  0.053861  0.013214  0.054079\n",
       "\n",
       "[2860 rows x 4 columns]"
      ]
     },
     "execution_count": 49,
     "metadata": {},
     "output_type": "execute_result"
    }
   ],
   "source": [
    "_time_df"
   ]
  },
  {
   "cell_type": "code",
   "execution_count": 50,
   "metadata": {},
   "outputs": [
    {
     "data": {
      "text/plain": [
       "[<matplotlib.lines.Line2D at 0x17e5db0efc0>]"
      ]
     },
     "execution_count": 50,
     "metadata": {},
     "output_type": "execute_result"
    },
    {
     "data": {
      "image/png": "[encoded data removed]",
      "text/plain": [
       "<Figure size 640x480 with 1 Axes>"
      ]
     },
     "metadata": {},
     "output_type": "display_data"
    }
   ],
   "source": [
    "plt.plot(_time_df['time'],transformed_tvec['12']['positions'].T[0])\n"
   ]
  },
  {
   "cell_type": "code",
   "execution_count": 51,
   "metadata": {},
   "outputs": [],
   "source": [
    "# transformed_tvec['12']['positions'].T"
   ]
  },
  {
   "cell_type": "code",
   "execution_count": 52,
   "metadata": {},
   "outputs": [
    {
     "data": {
      "text/plain": [
       "[<matplotlib.lines.Line2D at 0x17e5c6bae70>]"
      ]
     },
     "execution_count": 52,
     "metadata": {},
     "output_type": "execute_result"
    },
    {
     "data": {
      "image/png": "[encoded data removed]",
      "text/plain": [
       "<Figure size 640x480 with 1 Axes>"
      ]
     },
     "metadata": {},
     "output_type": "display_data"
    }
   ],
   "source": [
    "# plt.plot(transformed_tvec['12']['positions'].T[1])\n",
    "plt.plot(transformed_tvec['12']['positions'].T[2])"
   ]
  },
  {
   "cell_type": "code",
   "execution_count": 53,
   "metadata": {},
   "outputs": [],
   "source": [
    "# sadf"
   ]
  },
  {
   "cell_type": "code",
   "execution_count": 64,
   "metadata": {},
   "outputs": [
    {
     "name": "stderr",
     "output_type": "stream",
     "text": [
      "e:\\CMC\\pyprojects\\programs_rpi\\rpi_python\\notebooks\\pd_support.py:326: FutureWarning: errors='ignore' is deprecated and will raise in a future version. Use to_numeric without passing `errors` and catch exceptions explicitly instead\n",
      "  _rb_df = _rb_df.apply(pd.to_numeric, errors=\"ignore\")\n"
     ]
    }
   ],
   "source": [
    "import sys\n",
    "sys.path.insert(1, os.path.dirname(os.getcwd()))\n",
    "from pd_support import *\n",
    "_mocap_pth = r'E:\\CMC\\pyprojects\\programs_rpi\\rpi_python\\data\\recordings4\\randomxyz_t0\\randomxyz_t0.csv'\n",
    "mocap_df, st_time = read_rigid_body_csv(_mocap_pth)\n",
    "mocap_df = add_datetime_col(mocap_df, st_time, 'seconds')"
   ]
  },
  {
   "cell_type": "code",
   "execution_count": 65,
   "metadata": {},
   "outputs": [],
   "source": [
    "# mocap_df"
   ]
  },
  {
   "cell_type": "code",
   "execution_count": 66,
   "metadata": {},
   "outputs": [],
   "source": [
    "rb_quat = mocap_df[['rb_ang_x', 'rb_ang_y', 'rb_ang_z', 'rb_ang_w']].values\n",
    "\n",
    "rb_pos = mocap_df[['rb_pos_x', 'rb_pos_y', 'rb_pos_z']].values"
   ]
  },
  {
   "cell_type": "code",
   "execution_count": 91,
   "metadata": {},
   "outputs": [],
   "source": [
    "from scipy.spatial.transform import Rotation as R\n",
    "rb_matrix = R.from_quat(rb_quat[0]).as_matrix()"
   ]
  },
  {
   "cell_type": "code",
   "execution_count": 92,
   "metadata": {},
   "outputs": [],
   "source": [
    "# transformed_rb_pos = (rb_matrix.T @ (rb_pos.T - rb_pos[0].reshape(3,1))).T\n",
    "transformed_rb_pos = (initial_rmat.T @ (rb_pos.T - rb_pos[0].reshape(3,1))).T"
   ]
  },
  {
   "cell_type": "code",
   "execution_count": 93,
   "metadata": {},
   "outputs": [],
   "source": [
    "# mocap_df['time']"
   ]
  },
  {
   "cell_type": "code",
   "execution_count": 99,
   "metadata": {},
   "outputs": [
    {
     "data": {
      "text/plain": [
       "array([[ 0.99844915,  0.00592385,  0.05535491],\n",
       "       [ 0.01010185, -0.9970943 , -0.07550448],\n",
       "       [ 0.05474679,  0.07594658, -0.9956078 ]], dtype=float32)"
      ]
     },
     "execution_count": 99,
     "metadata": {},
     "output_type": "execute_result"
    }
   ],
   "source": [
    "initial_rmat"
   ]
  },
  {
   "cell_type": "code",
   "execution_count": 100,
   "metadata": {},
   "outputs": [
    {
     "data": {
      "text/plain": [
       "array([[ 0.9837076 , -0.17456159,  0.04298336],\n",
       "       [ 0.02527179, -0.10244725, -0.99441735],\n",
       "       [ 0.17799061,  0.97930219, -0.09636666]])"
      ]
     },
     "execution_count": 100,
     "metadata": {},
     "output_type": "execute_result"
    }
   ],
   "source": [
    "rb_matrix @ initial_rmat"
   ]
  },
  {
   "cell_type": "code",
   "execution_count": 101,
   "metadata": {},
   "outputs": [
    {
     "data": {
      "text/plain": [
       "array([ 95.62000599, -10.25274031,   1.47162443])"
      ]
     },
     "execution_count": 101,
     "metadata": {},
     "output_type": "execute_result"
    }
   ],
   "source": [
    "R.from_matrix(rb_matrix @ initial_rmat).as_euler('xyz', degrees=True)"
   ]
  },
  {
   "cell_type": "code",
   "execution_count": 95,
   "metadata": {},
   "outputs": [
    {
     "data": {
      "text/plain": [
       "[]"
      ]
     },
     "execution_count": 95,
     "metadata": {},
     "output_type": "execute_result"
    },
    {
     "data": {
      "image/png": "[encoded data removed]",
      "text/plain": [
       "<Figure size 640x480 with 1 Axes>"
      ]
     },
     "metadata": {},
     "output_type": "display_data"
    }
   ],
   "source": [
    "# plt.plot(mocap_df['time'], -1*transformed_rb_pos.T[0], label='RB /X Position')\n",
    "# plt.plot(_time_df['time'] - timedelta(seconds=3.1), transformed_tvec['12']['positions'].T[0], label='12 X Position')\n",
    "\n",
    "\n",
    "plt.plot(-1*transformed_rb_pos.T[0], label='RB X Position')\n",
    "plt.plot( transformed_tvec['12']['positions'].T[0], label='12 X Position')\n",
    "plt.legend()\n",
    "plt.plot()"
   ]
  },
  {
   "cell_type": "code",
   "execution_count": null,
   "metadata": {},
   "outputs": [
    {
     "data": {
      "text/plain": [
       "[]"
      ]
     },
     "execution_count": 96,
     "metadata": {},
     "output_type": "execute_result"
    },
    {
     "data": {
      "image/png": "[encoded data removed]",
      "text/plain": [
       "<Figure size 640x480 with 1 Axes>"
      ]
     },
     "metadata": {},
     "output_type": "display_data"
    }
   ],
   "source": [
    "plt.plot(mocap_df['time'], transformed_rb_pos.T[1], label='RB z Position')\n",
    "plt.plot(_time_df['time'] - timedelta(seconds=3.1), transformed_tvec['12']['positions'].T[2], label='12 z Position')\n",
    "plt.legend()\n",
    "plt.plot()"
   ]
  },
  {
   "cell_type": "code",
   "execution_count": null,
   "metadata": {},
   "outputs": [],
   "source": []
  },
  {
   "cell_type": "code",
   "execution_count": 97,
   "metadata": {},
   "outputs": [
    {
     "ename": "NameError",
     "evalue": "name 'asfsdf' is not defined",
     "output_type": "error",
     "traceback": [
      "\u001b[1;31m---------------------------------------------------------------------------\u001b[0m",
      "\u001b[1;31mNameError\u001b[0m                                 Traceback (most recent call last)",
      "Cell \u001b[1;32mIn[97], line 1\u001b[0m\n\u001b[1;32m----> 1\u001b[0m \u001b[43masfsdf\u001b[49m\n",
      "\u001b[1;31mNameError\u001b[0m: name 'asfsdf' is not defined"
     ]
    }
   ],
   "source": [
    "asfsdf"
   ]
  },
  {
   "cell_type": "code",
   "execution_count": null,
   "metadata": {},
   "outputs": [],
   "source": [
    "import cv2\n",
    "import numpy as np\n",
    "import msgpack as mp\n",
    "import msgpack_numpy as mpn\n",
    "import toml\n",
    "from tqdm import tqdm\n",
    "\n",
    "# Load fisheye calibration data\n",
    "calib_data = toml.load(r'E:\\CMC\\pyprojects\\programs_rpi\\rpi_python\\optimized_fisheye_calibration.toml')\n",
    "matrix = np.array(calib_data['calibration']['camera_matrix'], dtype=np.float32).reshape(3, 3)\n",
    "distortion = np.array(calib_data['calibration']['dist_coeffs'], dtype=np.float32)\n",
    "\n",
    "def undistort_aruco_corners_fisheye(corners, camera_matrix, dist_coeffs):\n",
    "    \"\"\"\n",
    "    Undistort ArUco corners using fisheye camera model.\n",
    "    \n",
    "    Args:\n",
    "        corners: List of corner arrays from ArUco detection\n",
    "        camera_matrix: Original fisheye camera matrix\n",
    "        dist_coeffs: Fisheye distortion coefficients\n",
    "    \n",
    "    Returns:\n",
    "        undistorted_corners: List of undistorted corner arrays\n",
    "    \"\"\"\n",
    "    if corners is None or len(corners) == 0:\n",
    "        return corners\n",
    "    \n",
    "    undistorted_corners = []\n",
    "    \n",
    "    for corner_set in corners:\n",
    "        # Reshape corners to the format expected by undistortPoints\n",
    "        corner_points = corner_set.reshape(-1, 1, 2).astype(np.float32)\n",
    "        \n",
    "        # Undistort using fisheye model\n",
    "        undistorted_points = cv2.fisheye.undistortPoints(\n",
    "            corner_points,\n",
    "            camera_matrix,\n",
    "            dist_coeffs,\n",
    "            P=camera_matrix\n",
    "        )\n",
    "        \n",
    "        # Reshape back to original format\n",
    "        undistorted_corner_set = undistorted_points.reshape(corner_set.shape)\n",
    "        undistorted_corners.append(undistorted_corner_set)\n",
    "    \n",
    "    return undistorted_corners\n",
    "\n",
    "def process_aruco_detections_with_fisheye(ar_results, camera_matrix, dist_coeffs, marker_length, target_ids=[12, 14, 20]):\n",
    "    \"\"\"\n",
    "    Process ArUco detection results with fisheye distortion correction, handling missing IDs gracefully.\n",
    "    \n",
    "    Args:\n",
    "        ar_results: Dictionary containing 'ids', 'corners', 'rvecs', 'tvecs'\n",
    "        camera_matrix: Fisheye camera matrix\n",
    "        dist_coeffs: Fisheye distortion coefficients\n",
    "        marker_length: Physical size of ArUco markers in meters\n",
    "        target_ids: List of marker IDs we want to track\n",
    "    \n",
    "    Returns:\n",
    "        Dictionary with transformed translation vectors for each target ID\n",
    "    \"\"\"\n",
    "    transformed_tvec = {str(tid): [] for tid in target_ids}\n",
    "    initial_rmat = None\n",
    "    initial_tvec = None\n",
    "    \n",
    "    for frame_idx in range(len(ar_results['ids'])):\n",
    "        if (ar_results['ids'][frame_idx] is None or \n",
    "            len(ar_results['ids'][frame_idx]) == 0 or\n",
    "            ar_results['corners'][frame_idx] is None or\n",
    "            len(ar_results['corners'][frame_idx]) == 0):\n",
    "            # No markers detected in this frame\n",
    "            for target_id in target_ids:\n",
    "                transformed_tvec[str(target_id)].append(np.full(3, np.nan))\n",
    "            continue\n",
    "        \n",
    "        # Get frame data\n",
    "        frame_corners = ar_results['corners'][frame_idx]\n",
    "        frame_ids = ar_results['ids'][frame_idx]\n",
    "        \n",
    "        # Undistort corners using fisheye model\n",
    "        undistorted_corners = undistort_aruco_corners_fisheye(frame_corners, camera_matrix, dist_coeffs)\n",
    "        \n",
    "        # Estimate poses using undistorted corners\n",
    "        if len(undistorted_corners) > 0:\n",
    "            rvecs, tvecs, _ = cv2.aruco.estimatePoseSingleMarkers(\n",
    "                undistorted_corners, \n",
    "                marker_length, \n",
    "                camera_matrix,\n",
    "                np.zeros(4)  # No distortion after undistortion\n",
    "            )\n",
    "            \n",
    "            # Convert to proper format\n",
    "            rvecs = rvecs.reshape(-1, 3)\n",
    "            tvecs = tvecs.reshape(-1, 3)\n",
    "            \n",
    "            # Sort detections by ID for consistency\n",
    "            sorted_indices = np.argsort(frame_ids)\n",
    "            sorted_ids = frame_ids[sorted_indices]\n",
    "            sorted_rvecs = rvecs[sorted_indices]\n",
    "            sorted_tvecs = tvecs[sorted_indices]\n",
    "            \n",
    "            # Initialize reference frame from first detection\n",
    "            if initial_rmat is None:\n",
    "                initial_rmat = cv2.Rodrigues(sorted_rvecs[0])[0]\n",
    "                initial_tvec = sorted_tvecs[0]\n",
    "                # For the first frame, fill with zeros or NaN\n",
    "                for target_id in target_ids:\n",
    "                    transformed_tvec[str(target_id)].append(np.zeros(3))\n",
    "                continue\n",
    "            \n",
    "            # Transform all detected markers to reference frame\n",
    "            temp_vec = sorted_tvecs.T - initial_tvec.reshape(-1, 1)\n",
    "            transformed_positions = (initial_rmat.T @ temp_vec).T\n",
    "            \n",
    "            # Create mapping from ID to transformed position\n",
    "            id_to_position = dict(zip(sorted_ids, transformed_positions))\n",
    "            \n",
    "            # Append results for each target ID\n",
    "            for target_id in target_ids:\n",
    "                if target_id in id_to_position:\n",
    "                    transformed_tvec[str(target_id)].append(id_to_position[target_id])\n",
    "                else:\n",
    "                    transformed_tvec[str(target_id)].append(np.full(3, np.nan))\n",
    "        else:\n",
    "            # No valid poses estimated\n",
    "            for target_id in target_ids:\n",
    "                transformed_tvec[str(target_id)].append(np.full(3, np.nan))\n",
    "    \n",
    "    return transformed_tvec\n",
    "\n",
    "def clean_transformed_data(transformed_tvec):\n",
    "    \"\"\"Remove NaN entries and return valid data points with their indices.\"\"\"\n",
    "    cleaned_data = {}\n",
    "    for marker_id, positions in transformed_tvec.items():\n",
    "        positions_array = np.array(positions)\n",
    "        # Find rows where all values are not NaN\n",
    "        valid_mask = ~np.isnan(positions_array).all(axis=1)\n",
    "        cleaned_data[marker_id] = {\n",
    "            'positions': positions_array[valid_mask],\n",
    "            'frame_indices': np.where(valid_mask)[0]\n",
    "        }\n",
    "    return cleaned_data\n",
    "\n",
    "# Main processing pipeline\n",
    "def process_fisheye_aruco_pipeline(reference_file, timestamp_file, detector, board, markerLength, \n",
    "                                 camera_matrix, dist_coeffs, target_ids=[12, 14, 20], \n",
    "                                 num_frames=300, random_seed=9):\n",
    "    \"\"\"\n",
    "    Complete pipeline for processing fisheye ArUco detection data.\n",
    "    \n",
    "    Args:\n",
    "        reference_file: Path to msgpack file with video frames\n",
    "        timestamp_file: Path to timestamp msgpack file\n",
    "        detector: ArUco detector object\n",
    "        board: ArUco board object\n",
    "        markerLength: Physical size of markers in meters\n",
    "        camera_matrix: Fisheye camera matrix\n",
    "        dist_coeffs: Fisheye distortion coefficients\n",
    "        target_ids: List of marker IDs to track\n",
    "        num_frames: Number of frames to process\n",
    "        random_seed: Random seed for frame selection\n",
    "    \n",
    "    Returns:\n",
    "        Dictionary with processed results\n",
    "    \"\"\"\n",
    "    # Load data\n",
    "    np.random.seed(random_seed)\n",
    "    ref_data = mp.Unpacker(open(reference_file, \"rb\"), object_hook=mpn.decode)\n",
    "    timestamp_data = mp.Unpacker(open(timestamp_file, \"rb\"), object_hook=mpn.decode)\n",
    "    \n",
    "    # Initialize result containers\n",
    "    ar_results = {\n",
    "        'corners': [], \n",
    "        'ids': [], \n",
    "        'rejected': [], \n",
    "        'rvecs': [], \n",
    "        'tvecs': [],\n",
    "        'undistorted_corners': []\n",
    "    }\n",
    "    \n",
    "    timestamp = list(timestamp_data)\n",
    "    \n",
    "    for idx, frame in tqdm(enumerate(ref_data)):\n",
    "        if idx >= num_frames:\n",
    "            break\n",
    "            \n",
    "        frame = cv2.rotate(frame, cv2.ROTATE_180)\n",
    "        \n",
    "        # Detect markers\n",
    "        res = detector.detectMarkers(frame)\n",
    "        res = detector.refineDetectedMarkers(frame, board, res[0], res[1], res[2])\n",
    "        \n",
    "        # Store detection results\n",
    "        ar_results['corners'].append(res[0])\n",
    "        ar_results['ids'].append(res[1].T.reshape(-1) if res[1] is not None else None)\n",
    "        ar_results['rejected'].append(res[2])\n",
    "        \n",
    "        if res[0] is not None and len(res[0]) > 0:\n",
    "            # Undistort corners using fisheye model\n",
    "            undistorted_corners = undistort_aruco_corners_fisheye(res[0], camera_matrix, dist_coeffs)\n",
    "            ar_results['undistorted_corners'].append(undistorted_corners)\n",
    "            \n",
    "            # Estimate pose using undistorted corners\n",
    "            rvecs, tvecs, _ = cv2.aruco.estimatePoseSingleMarkers(\n",
    "                undistorted_corners, \n",
    "                markerLength, \n",
    "                camera_matrix,\n",
    "                np.zeros(4)  # No distortion after undistortion\n",
    "            )\n",
    "            \n",
    "            ar_results['rvecs'].append(rvecs)\n",
    "            ar_results['tvecs'].append(tvecs)\n",
    "        else:\n",
    "            ar_results['undistorted_corners'].append(None)\n",
    "            ar_results['rvecs'].append(None)\n",
    "            ar_results['tvecs'].append(None)\n",
    "    \n",
    "    # Process the results to get transformed positions\n",
    "    transformed_tvec = process_aruco_detections_with_fisheye(\n",
    "        ar_results, camera_matrix, dist_coeffs, markerLength, target_ids\n",
    "    )\n",
    "    \n",
    "    # Clean the data (remove NaN entries)\n",
    "    cleaned_data = clean_transformed_data(transformed_tvec)\n",
    "    \n",
    "    return {\n",
    "        'ar_results': ar_results,\n",
    "        'transformed_tvec': transformed_tvec,\n",
    "        'cleaned_data': cleaned_data,\n",
    "        'timestamps': timestamp[:len(ar_results['corners'])]\n",
    "    }\n"
   ]
  },
  {
   "cell_type": "code",
   "execution_count": null,
   "metadata": {},
   "outputs": [
    {
     "name": "stdout",
     "output_type": "stream",
     "text": [
      "Step 1: Loading calibration data...\n",
      "Step 2: Running complete fisheye ArUco pipeline...\n"
     ]
    },
    {
     "name": "stderr",
     "output_type": "stream",
     "text": [
      "2000it [00:09, 216.46it/s]\n"
     ]
    },
    {
     "name": "stdout",
     "output_type": "stream",
     "text": [
      "Step 3: Accessing results...\n",
      "Processed 2000 frames\n",
      "Target IDs: ['12', '14', '20']\n",
      "Step 4: Using the results...\n",
      "Marker 12: 0 valid detections out of 2000 frames\n",
      "Marker 14: 0 valid detections out of 2000 frames\n",
      "Marker 20: 0 valid detections out of 2000 frames\n",
      "\n",
      "==================================================\n",
      "ALTERNATIVE: Individual function calls (if you need more control)\n",
      "==================================================\n",
      "Individual processing complete!\n"
     ]
    }
   ],
   "source": [
    "import cv2\n",
    "import numpy as np\n",
    "import msgpack as mp\n",
    "import msgpack_numpy as mpn\n",
    "import toml\n",
    "from tqdm import tqdm\n",
    "\n",
    "# STEP 1: Load calibration data and setup parameters\n",
    "print(\"Step 1: Loading calibration data...\")\n",
    "calib_data = toml.load(r'E:\\CMC\\pyprojects\\programs_rpi\\rpi_python\\optimized_fisheye_calibration.toml')\n",
    "matrix = np.array(calib_data['calibration']['camera_matrix'], dtype=np.float32).reshape(3, 3)\n",
    "distortion = np.array(calib_data['calibration']['dist_coeffs'], dtype=np.float32)\n",
    "\n",
    "# Setup your other parameters\n",
    "markerLength = 0.05  # 5cm markers (adjust as needed)\n",
    "target_ids = [12, 14, 20]  # IDs you want to track\n",
    "reference_file = _reference_file  # Update this path\n",
    "timestamp_file = r'E:\\CMC\\pyprojects\\programs_rpi\\rpi_python\\data\\recordings_160fov\\3marker_complete_data\\3marker_april_mono_160fov_3\\webcam_timestamp.msgpack'\n",
    "\n",
    "# Initialize your detector and board (you should already have these)\n",
    "# detector = cv2.aruco.ArucoDetector(...)\n",
    "# board = cv2.aruco.CharucoBoard(...)\n",
    "\n",
    "# STEP 2: Run the complete pipeline (this calls all other functions internally)\n",
    "print(\"Step 2: Running complete fisheye ArUco pipeline...\")\n",
    "results = process_fisheye_aruco_pipeline(\n",
    "    reference_file=reference_file,\n",
    "    timestamp_file=timestamp_file,\n",
    "    detector=detector,\n",
    "    board=board,\n",
    "    markerLength=markerLength,\n",
    "    camera_matrix=matrix,\n",
    "    dist_coeffs=distortion,\n",
    "    target_ids=target_ids,\n",
    "    num_frames=2000,\n",
    "    random_seed=9\n",
    ")\n",
    "\n",
    "# STEP 3: Access your results\n",
    "print(\"Step 3: Accessing results...\")\n",
    "transformed_positions = results['transformed_tvec']  # Main result you want\n",
    "cleaned_positions = results['cleaned_data']         # Data with NaN removed\n",
    "ar_detection_data = results['ar_results']           # Raw detection data\n",
    "timestamps = results['timestamps']                  # Frame timestamps\n",
    "\n",
    "print(f\"Processed {len(ar_detection_data['corners'])} frames\")\n",
    "print(f\"Target IDs: {list(transformed_positions.keys())}\")\n",
    "\n",
    "# STEP 4: Use your results\n",
    "print(\"Step 4: Using the results...\")\n",
    "for marker_id in target_ids:\n",
    "    positions = np.array(transformed_positions[str(marker_id)])\n",
    "    valid_positions = positions[~np.isnan(positions).all(axis=1)]\n",
    "    print(f\"Marker {marker_id}: {len(valid_positions)} valid detections out of {len(positions)} frames\")\n",
    "\n",
    "# Optional: If you want more control, call functions individually instead of the pipeline\n",
    "print(\"\\n\" + \"=\"*50)\n",
    "print(\"ALTERNATIVE: Individual function calls (if you need more control)\")\n",
    "print(\"=\"*50)\n",
    "\n",
    "# Load your own data\n",
    "ref_data = mp.Unpacker(open(reference_file, \"rb\"), object_hook=mpn.decode)\n",
    "timestamp_data = mp.Unpacker(open(timestamp_file, \"rb\"), object_hook=mpn.decode)\n",
    "\n",
    "ar_results = {'corners': [], 'ids': [], 'rejected': [], 'rvecs': [], 'tvecs': []}\n",
    "\n",
    "# Process frames one by one\n",
    "for idx, frame in enumerate(ref_data):\n",
    "    if idx >= 300:  # Limit frames\n",
    "        break\n",
    "        \n",
    "    frame = cv2.rotate(frame, cv2.ROTATE_180)\n",
    "    \n",
    "    # Detect markers (your existing code)\n",
    "    res = detector.detectMarkers(frame)\n",
    "    res = detector.refineDetectedMarkers(frame, board, res[0], res[1], res[2])\n",
    "    \n",
    "    # Store results\n",
    "    ar_results['corners'].append(res[0])\n",
    "    ar_results['ids'].append(res[1].T.reshape(-1) if res[1] is not None else None)\n",
    "    ar_results['rejected'].append(res[2])\n",
    "    \n",
    "    if res[0] is not None and len(res[0]) > 0:\n",
    "        # Call undistort function\n",
    "        undistorted_corners = undistort_aruco_corners_fisheye(res[0], matrix, distortion)\n",
    "        \n",
    "        # Estimate pose\n",
    "        rvecs, tvecs, _ = cv2.aruco.estimatePoseSingleMarkers(\n",
    "            undistorted_corners, markerLength, matrix, np.zeros(4)\n",
    "        )\n",
    "        \n",
    "        ar_results['rvecs'].append(rvecs)\n",
    "        ar_results['tvecs'].append(tvecs)\n",
    "    else:\n",
    "        ar_results['rvecs'].append(None)\n",
    "        ar_results['tvecs'].append(None)\n",
    "\n",
    "# Process the collected results\n",
    "transformed_tvec = process_aruco_detections_with_fisheye(\n",
    "    ar_results, matrix, distortion, markerLength, target_ids\n",
    ")\n",
    "\n",
    "# Clean the data\n",
    "cleaned_data = clean_transformed_data(transformed_tvec)\n",
    "\n",
    "print(\"Individual processing complete!\")"
   ]
  },
  {
   "cell_type": "code",
   "execution_count": null,
   "metadata": {},
   "outputs": [
    {
     "data": {
      "text/plain": [
       "[<matplotlib.lines.Line2D at 0x1430090edb0>,\n",
       " <matplotlib.lines.Line2D at 0x1430090ede0>,\n",
       " <matplotlib.lines.Line2D at 0x1430090f470>]"
      ]
     },
     "execution_count": 83,
     "metadata": {},
     "output_type": "execute_result"
    },
    {
     "data": {
      "image/png": "[encoded data removed]",
      "text/plain": [
       "<Figure size 640x480 with 1 Axes>"
      ]
     },
     "metadata": {},
     "output_type": "display_data"
    }
   ],
   "source": [
    "plt.plot(cleaned_data['14']['positions'])"
   ]
  },
  {
   "cell_type": "code",
   "execution_count": null,
   "metadata": {},
   "outputs": [
    {
     "data": {
      "text/plain": [
       "array([[-0.03696549, -0.07789022,  0.00408531],\n",
       "       [-0.05852973,  0.02368453,  0.02367458],\n",
       "       [ 0.39828077,  0.40235463,  0.3878231 ]], dtype=float32)"
      ]
     },
     "execution_count": 84,
     "metadata": {},
     "output_type": "execute_result"
    }
   ],
   "source": [
    "_tvecs.reshape(-1, 3).T"
   ]
  },
  {
   "cell_type": "code",
   "execution_count": null,
   "metadata": {},
   "outputs": [
    {
     "ename": "IndexError",
     "evalue": "index 0 is out of bounds for axis 0 with size 0",
     "output_type": "error",
     "traceback": [
      "\u001b[1;31m---------------------------------------------------------------------------\u001b[0m",
      "\u001b[1;31mIndexError\u001b[0m                                Traceback (most recent call last)",
      "Cell \u001b[1;32mIn[85], line 1\u001b[0m\n\u001b[1;32m----> 1\u001b[0m \u001b[43mnp\u001b[49m\u001b[38;5;241;43m.\u001b[39;49m\u001b[43marray\u001b[49m\u001b[43m(\u001b[49m\u001b[43mar_results\u001b[49m\u001b[43m[\u001b[49m\u001b[38;5;124;43m'\u001b[39;49m\u001b[38;5;124;43mcorners\u001b[39;49m\u001b[38;5;124;43m'\u001b[39;49m\u001b[43m]\u001b[49m\u001b[43m[\u001b[49m\u001b[38;5;241;43m0\u001b[39;49m\u001b[43m]\u001b[49m\u001b[43m)\u001b[49m\u001b[43m[\u001b[49m\u001b[38;5;241;43m0\u001b[39;49m\u001b[43m]\u001b[49m[\u001b[38;5;241m0\u001b[39m]\n",
      "\u001b[1;31mIndexError\u001b[0m: index 0 is out of bounds for axis 0 with size 0"
     ]
    }
   ],
   "source": [
    "np.array(ar_results['corners'][0])[0][0]"
   ]
  },
  {
   "cell_type": "code",
   "execution_count": null,
   "metadata": {},
   "outputs": [
    {
     "data": {
      "text/plain": [
       "{'corners': [], 'ids': [], 'rejected': [], 'rvecs': [], 'tvecs': []}"
      ]
     },
     "execution_count": 45,
     "metadata": {},
     "output_type": "execute_result"
    }
   ],
   "source": [
    "ar_results"
   ]
  },
  {
   "cell_type": "code",
   "execution_count": null,
   "metadata": {},
   "outputs": [
    {
     "ename": "NameError",
     "evalue": "name 'initial_rmat' is not defined",
     "output_type": "error",
     "traceback": [
      "\u001b[1;31m---------------------------------------------------------------------------\u001b[0m",
      "\u001b[1;31mNameError\u001b[0m                                 Traceback (most recent call last)",
      "Cell \u001b[1;32mIn[42], line 1\u001b[0m\n\u001b[1;32m----> 1\u001b[0m \u001b[43minitial_rmat\u001b[49m\n",
      "\u001b[1;31mNameError\u001b[0m: name 'initial_rmat' is not defined"
     ]
    }
   ],
   "source": [
    "initial_rmat"
   ]
  },
  {
   "cell_type": "code",
   "execution_count": null,
   "metadata": {},
   "outputs": [
    {
     "name": "stdout",
     "output_type": "stream",
     "text": [
      "Processing calibration matrices in parallel...\n"
     ]
    },
    {
     "name": "stderr",
     "output_type": "stream",
     "text": [
      "Preparing calibration jobs:   0%|          | 0/9000 [00:00<?, ?it/s][Parallel(n_jobs=20)]: Using backend LokyBackend with 20 concurrent workers.\n",
      "Preparing calibration jobs:   0%|          | 40/9000 [00:01<07:50, 19.05it/s][Parallel(n_jobs=20)]: Done  10 tasks      | elapsed:    2.5s\n",
      "Preparing calibration jobs:   2%|▏         | 180/9000 [00:14<13:03, 11.26it/s][Parallel(n_jobs=20)]: Done 160 tasks      | elapsed:   16.3s\n",
      "Preparing calibration jobs:   5%|▍         | 440/9000 [00:35<10:59, 12.97it/s][Parallel(n_jobs=20)]: Done 410 tasks      | elapsed:   35.5s\n",
      "Preparing calibration jobs:   9%|▊         | 780/9000 [01:00<10:03, 13.61it/s][Parallel(n_jobs=20)]: Done 760 tasks      | elapsed:  1.0min\n",
      "Preparing calibration jobs:  14%|█▍        | 1240/9000 [01:37<11:41, 11.06it/s][Parallel(n_jobs=20)]: Done 1210 tasks      | elapsed:  1.6min\n",
      "Preparing calibration jobs:  20%|█▉        | 1780/9000 [02:29<11:26, 10.51it/s][Parallel(n_jobs=20)]: Done 1760 tasks      | elapsed:  2.5min\n",
      "Preparing calibration jobs:  27%|██▋       | 2440/9000 [03:33<09:42, 11.27it/s][Parallel(n_jobs=20)]: Done 2410 tasks      | elapsed:  3.6min\n",
      "Preparing calibration jobs:  35%|███▌      | 3182/9000 [04:46<13:50,  7.01it/s][Parallel(n_jobs=20)]: Done 3160 tasks      | elapsed:  4.8min\n",
      "Preparing calibration jobs:  45%|████▍     | 4040/9000 [06:00<07:40, 10.78it/s][Parallel(n_jobs=20)]: Done 4010 tasks      | elapsed:  6.0min\n",
      "Preparing calibration jobs:  55%|█████▌    | 4980/9000 [07:21<07:03,  9.49it/s][Parallel(n_jobs=20)]: Done 4960 tasks      | elapsed:  7.4min\n",
      "Preparing calibration jobs:  67%|██████▋   | 6040/9000 [08:58<04:18, 11.45it/s][Parallel(n_jobs=20)]: Done 6010 tasks      | elapsed:  9.0min\n",
      "Preparing calibration jobs:  80%|███████▉  | 7182/9000 [10:44<02:37, 11.57it/s][Parallel(n_jobs=20)]: Done 7160 tasks      | elapsed: 10.8min\n",
      "Preparing calibration jobs:  94%|█████████▍| 8440/9000 [13:33<00:56,  9.88it/s][Parallel(n_jobs=20)]: Done 8410 tasks      | elapsed: 13.6min\n",
      "Preparing calibration jobs: 100%|██████████| 9000/9000 [14:45<00:00, 10.16it/s]\n",
      "[Parallel(n_jobs=20)]: Done 9000 out of 9000 | elapsed: 14.8min finished\n"
     ]
    }
   ],
   "source": [
    "import numpy as np\n",
    "from scipy import stats\n",
    "from tqdm import tqdm\n",
    "import cv2\n",
    "from joblib import Parallel, delayed\n",
    "\n",
    "# Define filtering functions outside the loop\n",
    "def filter_90th_percentile_zscore(data, z_threshold=1.28):  # z=1.28 corresponds to ~90th percentile\n",
    "    \"\"\"Filter data to keep only values within 90th percentile using z-score\"\"\"\n",
    "    data = np.array(data)\n",
    "    data_clean = data[~np.isnan(data)]  # Remove NaN values\n",
    "    if len(data_clean) == 0:\n",
    "        return data_clean\n",
    "    \n",
    "    z_scores = np.abs(stats.zscore(data_clean))\n",
    "    return data_clean[z_scores <= z_threshold]\n",
    "\n",
    "def filter_90th_percentile_direct(data):\n",
    "    \"\"\"Filter data to keep only values up to 90th percentile\"\"\"\n",
    "    data = np.array(data)\n",
    "    data_clean = data[~np.isnan(data)]  # Remove NaN values\n",
    "    if len(data_clean) == 0:\n",
    "        return data_clean\n",
    "    \n",
    "    percentile_90 = np.percentile(data_clean, 90)\n",
    "    return data_clean[data_clean <= percentile_90]\n",
    "\n",
    "def process_single_calibration(idx, cal, ar_results):\n",
    "    \"\"\"Process a single calibration matrix\"\"\"\n",
    "    mat = cal[0]\n",
    "    dist = cal[1]\n",
    "    \n",
    "    map1, map2 = cv2.fisheye.initUndistortRectifyMap(\n",
    "        mat, dist, np.eye(3), mat, (1200, 800), cv2.CV_16SC2\n",
    "    )\n",
    "    new_matrix = cv2.fisheye.estimateNewCameraMatrixForUndistortRectify(\n",
    "        mat, dist, (1200, 800), None, None, cv2.CALIB_USE_INTRINSIC_GUESS\n",
    "    )\n",
    "    \n",
    "    ordered_results = {'20': {'tvecs': [], 'rvecs': []},\n",
    "                       '12': {'tvecs': [], 'rvecs': []},\n",
    "                       '14': {'tvecs': [], 'rvecs': []}}\n",
    "   \n",
    "    vector_length = {'v1':[], 'v2':[], 'v3':[]}\n",
    "    \n",
    "    for res in zip(ar_results['ids'], ar_results['corners']):\n",
    "        undistorted_corners = []\n",
    "        for marker_corner in res[1]:\n",
    "            undistorted_corners.append(cv2.undistortPoints(marker_corner.reshape(-1, 1, 2), mat, dist))\n",
    "        undistorted_corners = np.array(undistorted_corners)\n",
    "        pose = estimate_pose_single_markers(res[1], 0.05, mat, dist)\n",
    "        v_12, v_14, v_20 = np.zeros((1,3)), np.zeros((1,3)), np.zeros((1,3))\n",
    "        \n",
    "        for idx_marker, id in enumerate(res[0].reshape(-1)):\n",
    "            match id:\n",
    "                case 20:\n",
    "                    ordered_results['20']['tvecs'].append(pose[1][idx_marker])\n",
    "                    ordered_results['20']['rvecs'].append(pose[0][idx_marker])\n",
    "                    v_20 = pose[1][idx_marker]\n",
    "                case 12:\n",
    "                    ordered_results['12']['tvecs'].append(pose[1][idx_marker])\n",
    "                    ordered_results['12']['rvecs'].append(pose[0][idx_marker])\n",
    "                    v_12 = pose[1][idx_marker]\n",
    "                case 14:\n",
    "                    ordered_results['14']['tvecs'].append(pose[1][idx_marker])\n",
    "                    ordered_results['14']['rvecs'].append(pose[0][idx_marker])\n",
    "                    v_14 = pose[1][idx_marker]\n",
    "                case _:\n",
    "                    continue\n",
    "       \n",
    "        # Calculate vector lengths\n",
    "        vector_length['v1'].append(np.linalg.norm(v_12 - v_14))\n",
    "        vector_length['v2'].append(np.linalg.norm(v_14 - v_20))\n",
    "        vector_length['v3'].append(np.linalg.norm(v_20 - v_12))\n",
    "   \n",
    "    # Apply filtering to each vector length array\n",
    "    v1_filtered = filter_90th_percentile_direct(vector_length['v1'])\n",
    "    v2_filtered = filter_90th_percentile_direct(vector_length['v2'])\n",
    "    v3_filtered = filter_90th_percentile_direct(vector_length['v3'])\n",
    "    \n",
    "    # Calculate standard deviation on filtered data\n",
    "    v1_std_val = np.nanstd(v1_filtered) if len(v1_filtered) > 0 else np.nan\n",
    "    v2_std_val = np.nanstd(v2_filtered) if len(v2_filtered) > 0 else np.nan\n",
    "    v3_std_val = np.nanstd(v3_filtered) if len(v3_filtered) > 0 else np.nan\n",
    "    \n",
    "    # Sum of standard deviations\n",
    "    v1_std_final = v1_std_val if not np.isnan(v1_std_val) else 0\n",
    "    v2_std_final = v2_std_val if not np.isnan(v2_std_val) else 0\n",
    "    v3_std_final = v3_std_val if not np.isnan(v3_std_val) else 0\n",
    "    sum_std = v1_std_final + v2_std_final + v3_std_final\n",
    "    \n",
    "    return {\n",
    "        'calib_idx': idx,\n",
    "        'ar_data': ordered_results,\n",
    "        'v1std': v1_std_val,\n",
    "        'v2std': v2_std_val,\n",
    "        'v3std': v3_std_val,\n",
    "        'sum': sum_std\n",
    "    }\n",
    "\n",
    "# Parallel processing of calibration matrices\n",
    "print(\"Processing calibration matrices in parallel...\")\n",
    "calibration_data = list(zip(_calib_data[0]['mat'], _calib_data[0]['dist']))\n",
    "\n",
    "# Use joblib to parallelize calibration processing\n",
    "# n_jobs=-1 uses all available cores, you can set specific number like n_jobs=4\n",
    "results = Parallel(n_jobs=20, verbose=1)(\n",
    "    delayed(process_single_calibration)(idx, cal, ar_results) \n",
    "    for idx, cal in enumerate(tqdm(calibration_data, desc=\"Preparing calibration jobs\"))\n",
    ")\n",
    "\n",
    "# Collect results\n",
    "for result in results:\n",
    "    ar_total_results['calib_idx'].append(result['calib_idx'])\n",
    "    ar_total_results['ar_data'].append(result['ar_data'])\n",
    "    vector_std['v1std'].append(result['v1std'])\n",
    "    vector_std['v2std'].append(result['v2std'])\n",
    "    vector_std['v3std'].append(result['v3std'])\n",
    "    vector_std['sum'].append(result['sum'])"
   ]
  },
  {
   "cell_type": "code",
   "execution_count": null,
   "metadata": {},
   "outputs": [],
   "source": [
    "_optimization_file = os.path.join(_webcam_calib_folder, \"optimization_file.msgpack\")\n",
    "\n",
    "with open(_optimization_file, \"wb\") as f:\n",
    "    _packed_file = mp.packb([ar_total_results, vector_std], default=mpn.encode)\n",
    "    f.write(_packed_file)"
   ]
  },
  {
   "cell_type": "code",
   "execution_count": null,
   "metadata": {},
   "outputs": [
    {
     "data": {
      "text/plain": [
       "(np.int64(1881), np.float64(0.017823322048508363))"
      ]
     },
     "execution_count": 11,
     "metadata": {},
     "output_type": "execute_result"
    }
   ],
   "source": [
    "np.argmin(vector_std['sum']), vector_std['sum'][np.argmin(vector_std['sum'])]"
   ]
  },
  {
   "cell_type": "code",
   "execution_count": null,
   "metadata": {},
   "outputs": [
    {
     "ename": "NameError",
     "evalue": "name 'STOP_HERE' is not defined",
     "output_type": "error",
     "traceback": [
      "\u001b[31m---------------------------------------------------------------------------\u001b[39m",
      "\u001b[31mNameError\u001b[39m                                 Traceback (most recent call last)",
      "\u001b[36mCell\u001b[39m\u001b[36m \u001b[39m\u001b[32mIn[15]\u001b[39m\u001b[32m, line 1\u001b[39m\n\u001b[32m----> \u001b[39m\u001b[32m1\u001b[39m \u001b[43mSTOP_HERE\u001b[49m\n",
      "\u001b[31mNameError\u001b[39m: name 'STOP_HERE' is not defined"
     ]
    }
   ],
   "source": [
    "STOP_HERE"
   ]
  },
  {
   "cell_type": "code",
   "execution_count": null,
   "metadata": {},
   "outputs": [],
   "source": []
  }
 ],
 "metadata": {
  "kernelspec": {
   "display_name": "py12",
   "language": "python",
   "name": "python3"
  },
  "language_info": {
   "codemirror_mode": {
    "name": "ipython",
    "version": 3
   },
   "file_extension": ".py",
   "mimetype": "text/x-python",
   "name": "python",
   "nbconvert_exporter": "python",
   "pygments_lexer": "ipython3",
   "version": "3.12.4"
  }
 },
 "nbformat": 4,
 "nbformat_minor": 2
}
