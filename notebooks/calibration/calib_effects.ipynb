{
 "cells": [
  {
   "cell_type": "code",
   "execution_count": 1,
   "metadata": {},
   "outputs": [],
   "source": [
    "import numpy as np\n",
    "import pandas as pd\n",
    "import polars as pl\n",
    "import matplotlib.pyplot as plt\n",
    "import os\n",
    "import cv2\n",
    "from cv2 import aruco\n",
    "from tqdm import tqdm\n",
    "import msgpack as mp\n",
    "import msgpack_numpy as mpn\n",
    "from datetime import datetime"
   ]
  },
  {
   "cell_type": "markdown",
   "metadata": {},
   "source": [
    "## Path definition"
   ]
  },
  {
   "cell_type": "code",
   "execution_count": 2,
   "metadata": {},
   "outputs": [],
   "source": [
    "_pth = os.path.dirname(os.path.dirname(os.getcwd()))\n",
    "_parent_folder = \"data\"\n",
    "_calib_folder_name = \"calib_mono_chessboard_corners\"\n",
    "\n",
    "_webcam_calib_folder = os.path.join(\n",
    "    _pth, _parent_folder, \"calibration\", _calib_folder_name\n",
    ")\n",
    "_webcam_calib_video = os.path.join(_webcam_calib_folder, \"test.msgpack\")\n"
   ]
  },
  {
   "cell_type": "code",
   "execution_count": 3,
   "metadata": {},
   "outputs": [],
   "source": [
    "chessb_corners = mp.Unpacker(open(_webcam_calib_video, 'rb'), object_hook=mpn.decode)\n",
    "chessb_corners = list(chessb_corners)"
   ]
  },
  {
   "cell_type": "code",
   "execution_count": 4,
   "metadata": {},
   "outputs": [],
   "source": [
    "useDeng = False\n",
    "cameraNumber = 4\n",
    "useFisheye = True\n",
    "\n",
    "patternSize = (6, 4)\n",
    "squareSize = 30\n",
    "imgSize = (1200, 480)\n",
    "\n",
    "criteria = (cv2.TERM_CRITERIA_EPS + cv2.TERM_CRITERIA_MAX_ITER, 30, 0.001)\n",
    "\n",
    "\n",
    "def construct3DPoints(patternSize, squareSize):\n",
    "    X = np.zeros((patternSize[0] * patternSize[1], 3), np.float32)\n",
    "    X[:, :2] = np.mgrid[0 : patternSize[0], 0 : patternSize[1]].T.reshape(-1, 2)\n",
    "    X = X * squareSize\n",
    "    return X\n",
    "\n",
    "\n",
    "boardPoints = construct3DPoints(patternSize, squareSize)\n",
    "worldPoints = []\n",
    "imagePoints = []"
   ]
  },
  {
   "cell_type": "code",
   "execution_count": 5,
   "metadata": {},
   "outputs": [],
   "source": [
    "def undistortFisheye(imgpath, K, D, DIM, axis, method, scale, corners):\n",
    "    img = cv2.imread(imgpath)\n",
    "    \"\"\"\n",
    "    new_K = cv2.fisheye.estimateNewCameraMatrixForUndistortRectify(K, D, DIM, np.eye(3), balance=0)\n",
    "    new_K = K.copy()\n",
    "    new_K[0,0]=K[0,0]*scale\n",
    "    new_K[1,1]=K[1,1]*scale\n",
    "    \"\"\"\n",
    "    map1, map2 = cv2.fisheye.initUndistortRectifyMap(\n",
    "        K, D, np.eye(3), K, DIM, cv2.CV_16SC2\n",
    "    )\n",
    "    undistorted_img = cv2.remap(\n",
    "        img, map1, map2, interpolation=cv2.INTER_LINEAR, borderMode=cv2.BORDER_CONSTANT\n",
    "    )\n",
    "\n",
    "    fx = K[0, 0]\n",
    "    fy = K[1, 1]\n",
    "    cx = K[0, 2]\n",
    "    cy = K[1, 2]\n",
    "    undCorners_norm = cv2.fisheye.undistortPoints(corners, K, D)\n",
    "    undCorners_norm = undCorners_norm.reshape(-1, 2)\n",
    "    undistCorners = np.zeros_like(undCorners_norm)\n",
    "    for i, (x, y) in enumerate(undCorners_norm):\n",
    "        px = x * fx + cx\n",
    "        py = y * fy + cy\n",
    "        undistCorners[i, 0] = px\n",
    "        undistCorners[i, 1] = py\n",
    "    cv2.drawChessboardCorners(undistorted_img, patternSize, undistCorners, _)\n",
    "\n",
    "    axs[axis].imshow(undistorted_img[:, :, ::-1])\n",
    "    axs[axis].axis(\"off\")\n",
    "    axs[axis].set_title(\"undistort \" + method)\n",
    "    # cv2.imwrite('undistort'+method+'.png', undistorted_img)\n",
    "\n",
    "    return corners, undistCorners\n",
    "\n",
    "\n",
    "def undistortPinhole(imgpath, K, D, DIM, axis, method, corners):\n",
    "    img = cv2.imread(imgpath)\n",
    "\n",
    "    new_K, roi = cv2.getOptimalNewCameraMatrix(K, D, DIM, 1, DIM)\n",
    "    undistorted_img = cv2.undistort(img, K, D, None, new_K)\n",
    "\n",
    "    undCorners_norm = cv2.undistortPoints(corners, K, D).reshape(-1, 2)\n",
    "    # remove normalization\n",
    "    fx = new_K[0, 0]\n",
    "    fy = new_K[1, 1]\n",
    "    cx = new_K[0, 2]\n",
    "    cy = new_K[1, 2]\n",
    "    undistCorners = np.zeros_like(undCorners_norm)\n",
    "    for i, (x, y) in enumerate(undCorners_norm):\n",
    "        px = x * fx + cx\n",
    "        py = y * fy + cy\n",
    "        undistCorners[i, 0] = px\n",
    "        undistCorners[i, 1] = py\n",
    "    cv2.drawChessboardCorners(undistorted_img, patternSize, undistCorners, _)\n",
    "    axs[axis].imshow(undistorted_img[:, :, ::-1])\n",
    "    axs[axis].axis(\"off\")\n",
    "    axs[axis].set_title(\"undistorted \" + method)"
   ]
  },
  {
   "cell_type": "code",
   "execution_count": 6,
   "metadata": {},
   "outputs": [
    {
     "name": "stderr",
     "output_type": "stream",
     "text": [
      "  0%|          | 0/630 [00:00<?, ?it/s]"
     ]
    },
    {
     "name": "stderr",
     "output_type": "stream",
     "text": [
      "100%|██████████| 630/630 [00:00<00:00, 1349546.23it/s]\n"
     ]
    }
   ],
   "source": [
    "counter = 0\n",
    "for _f in tqdm(chessb_corners):\n",
    "    imagePoints.append(_f)\n",
    "    worldPoints.append(boardPoints)\n",
    "    counter += 1\n",
    "    \"\"\"cv2.drawChessboardCorners(img, patternSize, cornersRefined, ret)\n",
    "    plt.figure(figsize=(4, 3), dpi=200)\n",
    "    plt.imshow(img[:,:,::-1])\n",
    "    plt.axis('off')\n",
    "    plt.title(fname)\"\"\""
   ]
  },
  {
   "cell_type": "code",
   "execution_count": 7,
   "metadata": {},
   "outputs": [
    {
     "name": "stdout",
     "output_type": "stream",
     "text": [
      "RMS re-projection error: 0.3066900919234911\n",
      "Camera Matrix:\n",
      " [[759.78583311   0.         635.30360758]\n",
      " [  0.         762.81439633 399.14023285]\n",
      " [  0.           0.           1.        ]]\n",
      "Distortion Parameters:\n",
      " [[-0.0207248 ]\n",
      " [ 0.00181033]\n",
      " [-0.05370174]\n",
      " [ 0.03760771]]\n"
     ]
    }
   ],
   "source": [
    "if useFisheye:\n",
    "    flagsCalib = (\n",
    "        cv2.fisheye.CALIB_RECOMPUTE_EXTRINSIC\n",
    "        + cv2.fisheye.CALIB_FIX_SKEW\n",
    "        + cv2.fisheye.CALIB_CHECK_COND\n",
    "    )\n",
    "    calibrateCriteria = (cv2.TERM_CRITERIA_EPS + cv2.TERM_CRITERIA_MAX_ITER, 30, 1e-12)\n",
    "    ret, cameraMatrix, k, R, t = cv2.fisheye.calibrate(\n",
    "        np.expand_dims(np.asarray(worldPoints), -2),\n",
    "        imagePoints,\n",
    "        imgSize,\n",
    "        None,\n",
    "        None,\n",
    "        flags=flagsCalib,\n",
    "        criteria=calibrateCriteria,\n",
    "    )\n",
    "else:\n",
    "    flagsCalib = cv2.CALIB_RATIONAL_MODEL\n",
    "    ret, cameraMatrix, k, rvecs, tvecs = cv2.calibrateCamera(\n",
    "        worldPoints, imagePoints, imgSize, None, None, flags=flagsCalib\n",
    "    )\n",
    "\n",
    "# print(\"Using \"+str(counter)+\" of \"+str(len(images))+\" images\")\n",
    "print(\"RMS re-projection error:\", ret)\n",
    "print(\"Camera Matrix:\\n\", cameraMatrix)\n",
    "print(\"Distortion Parameters:\\n\", k)"
   ]
  },
  {
   "cell_type": "code",
   "execution_count": 19,
   "metadata": {},
   "outputs": [],
   "source": [
    "_residual = []\n",
    "\n",
    "for idx in range(len(t)):\n",
    "    imgpoints, _ = cv2.fisheye.projectPoints(\n",
    "        objectPoints=boardPoints.reshape(-1, 1, 3),\n",
    "        rvec=R[idx].reshape(-1, 3),\n",
    "        tvec=t[idx].reshape(-1, 3),\n",
    "        K=cameraMatrix,\n",
    "        D=k,\n",
    "    )\n",
    "    imgpoints = np.array(imgpoints).reshape(-1, 2).astype(float)\n",
    "\n",
    "    corners = np.array(chessb_corners)[idx]\n",
    "    corners = corners.reshape(-1, 2)\n",
    "    _residual.append(corners - imgpoints)"
   ]
  },
  {
   "cell_type": "code",
   "execution_count": 20,
   "metadata": {},
   "outputs": [
    {
     "data": {
      "image/png": "[encoded data removed]",
      "text/plain": [
       "<Figure size 640x480 with 1 Axes>"
      ]
     },
     "metadata": {},
     "output_type": "display_data"
    }
   ],
   "source": [
    "sh = np.array(_residual).shape\n",
    "_residual = np.array(_residual).reshape(sh[0]*sh[1], sh[2])\n",
    "\n",
    "plt.scatter(_residual[:, 0], _residual[:, 1])\n",
    "plt.title(\"Residual plot XY\")\n",
    "plt.grid(\"on\")"
   ]
  },
  {
   "cell_type": "code",
   "execution_count": 32,
   "metadata": {},
   "outputs": [
    {
     "ename": "error",
     "evalue": "OpenCV(4.10.0) /io/opencv/modules/calib3d/src/fisheye.cpp:77: error: (-215:Assertion failed) objectPoints.type() == CV_32FC3 || objectPoints.type() == CV_64FC3 in function 'projectPoints'\n",
     "output_type": "error",
     "traceback": [
      "\u001b[0;31m---------------------------------------------------------------------------\u001b[0m",
      "\u001b[0;31merror\u001b[0m                                     Traceback (most recent call last)",
      "Cell \u001b[0;32mIn[32], line 8\u001b[0m\n\u001b[1;32m      6\u001b[0m errors \u001b[38;5;241m=\u001b[39m []\n\u001b[1;32m      7\u001b[0m \u001b[38;5;28;01mfor\u001b[39;00m i \u001b[38;5;129;01min\u001b[39;00m \u001b[38;5;28mrange\u001b[39m(\u001b[38;5;28mlen\u001b[39m(worldPoints)):\n\u001b[0;32m----> 8\u001b[0m     imgpoints2, _ \u001b[38;5;241m=\u001b[39m \u001b[43mcv2\u001b[49m\u001b[38;5;241;43m.\u001b[39;49m\u001b[43mfisheye\u001b[49m\u001b[38;5;241;43m.\u001b[39;49m\u001b[43mprojectPoints\u001b[49m\u001b[43m(\u001b[49m\u001b[43mworldPoints\u001b[49m\u001b[43m[\u001b[49m\u001b[43mi\u001b[49m\u001b[43m]\u001b[49m\u001b[43m,\u001b[49m\u001b[43m \u001b[49m\u001b[43mrvecs\u001b[49m\u001b[43m[\u001b[49m\u001b[43mi\u001b[49m\u001b[43m]\u001b[49m\u001b[43m,\u001b[49m\u001b[43m \u001b[49m\u001b[43mtvecs\u001b[49m\u001b[43m[\u001b[49m\u001b[43mi\u001b[49m\u001b[43m]\u001b[49m\u001b[43m,\u001b[49m\u001b[43m \u001b[49m\u001b[43mmtx\u001b[49m\u001b[43m,\u001b[49m\u001b[43m \u001b[49m\u001b[43mdist\u001b[49m\u001b[43m)\u001b[49m\n\u001b[1;32m      9\u001b[0m     error \u001b[38;5;241m=\u001b[39m cv2\u001b[38;5;241m.\u001b[39mnorm(imgpoints[i], imgpoints2, cv2\u001b[38;5;241m.\u001b[39mNORM_L2) \u001b[38;5;241m/\u001b[39m \u001b[38;5;28mlen\u001b[39m(imgpoints2)\n\u001b[1;32m     10\u001b[0m     errors\u001b[38;5;241m.\u001b[39mappend(error)\n",
      "\u001b[0;31merror\u001b[0m: OpenCV(4.10.0) /io/opencv/modules/calib3d/src/fisheye.cpp:77: error: (-215:Assertion failed) objectPoints.type() == CV_32FC3 || objectPoints.type() == CV_64FC3 in function 'projectPoints'\n"
     ]
    }
   ],
   "source": [
    "mtx = cameraMatrix\n",
    "dist = k\n",
    "tvecs = t\n",
    "rvecs = R\n",
    "\n",
    "errors = []\n",
    "for i in range(len(worldPoints)):\n",
    "    imgpoints2, _ = cv2.fisheye.projectPoints(worldPoints[i], rvecs[i], tvecs[i], mtx, dist)\n",
    "    error = cv2.norm(imgpoints[i], imgpoints2, cv2.NORM_L2) / len(imgpoints2)\n",
    "    errors.append(error)\n",
    "\n",
    "plt.figure(figsize=(10, 5))\n",
    "plt.plot(errors, marker='o')\n",
    "plt.title(\"Reprojection Error per Image\")\n",
    "plt.xlabel(\"Image Index\")\n",
    "plt.ylabel(\"Reprojection Error (pixels)\")\n",
    "plt.show()"
   ]
  },
  {
   "cell_type": "code",
   "execution_count": 35,
   "metadata": {},
   "outputs": [
    {
     "data": {
      "text/plain": [
       "630"
      ]
     },
     "execution_count": 35,
     "metadata": {},
     "output_type": "execute_result"
    }
   ],
   "source": [
    "len(worldPoints)"
   ]
  },
  {
   "cell_type": "code",
   "execution_count": 36,
   "metadata": {},
   "outputs": [
    {
     "data": {
      "image/png": "[encoded data removed]",
      "text/plain": [
       "<Figure size 800x500 with 1 Axes>"
      ]
     },
     "metadata": {},
     "output_type": "display_data"
    }
   ],
   "source": [
    "# Extract fx, fy, cx, cy from the camera matrix\n",
    "fx, fy = mtx[0, 0], mtx[1, 1]\n",
    "cx, cy = mtx[0, 2], mtx[1, 2]\n",
    "\n",
    "plt.figure(figsize=(8, 5))\n",
    "plt.bar(['fx', 'fy', 'cx', 'cy'], [fx, fy, cx, cy])\n",
    "plt.title(\"Camera Matrix Parameters\")\n",
    "plt.xlabel(\"Parameter\")\n",
    "plt.ylabel(\"Value (pixels)\")\n",
    "plt.show()\n"
   ]
  },
  {
   "cell_type": "code",
   "execution_count": 38,
   "metadata": {},
   "outputs": [
    {
     "data": {
      "image/png": "[encoded data removed]",
      "text/plain": [
       "<Figure size 600x500 with 1 Axes>"
      ]
     },
     "metadata": {},
     "output_type": "display_data"
    }
   ],
   "source": [
    "# Calculate horizontal and vertical FOVs (assuming w and h are image dimensions)\n",
    "w = 1200\n",
    "h = 800\n",
    "fov_x = 2 * np.degrees(np.arctan(w / (2 * fx)))\n",
    "fov_y = 2 * np.degrees(np.arctan(h / (2 * fy)))\n",
    "\n",
    "plt.figure(figsize=(6, 5))\n",
    "plt.bar(['FOV X', 'FOV Y'], [fov_x, fov_y])\n",
    "plt.title(\"Field of View (FOV)\")\n",
    "plt.xlabel(\"Direction\")\n",
    "plt.ylabel(\"FOV (degrees)\")\n",
    "plt.show()\n"
   ]
  },
  {
   "cell_type": "markdown",
   "metadata": {},
   "source": [
    "\n",
    "\n",
    "\n",
    "\n",
    "\n",
    "\n",
    "\n",
    "\n",
    "\n",
    "\n",
    "\n",
    "\n",
    "\n",
    "\n",
    "\n",
    "\n",
    "\n",
    "\n",
    "\n",
    "\n",
    "\n",
    "\n",
    "\n",
    "\n",
    "\n",
    "\n",
    "\n",
    "\n",
    "\n",
    "\n",
    "\n",
    "\n",
    "\n",
    "\n",
    "\n",
    "\n",
    "\n",
    "\n",
    "\n",
    "\n",
    "\n",
    "\n",
    "\n",
    "\n",
    "\n",
    "\n",
    "\n",
    "\n",
    "\n",
    "\n",
    "\n",
    "\n",
    "\n",
    "\n",
    "\n",
    "\n",
    "\n",
    "\n",
    "\n",
    "\n",
    "\n",
    "\n",
    "\n",
    "\n",
    "\n",
    "\n",
    "\n",
    "\n",
    "\n",
    "\n",
    "\n",
    "\n",
    "\n",
    "\n",
    "\n",
    "\n",
    "\n",
    "\n",
    "\n",
    "# define calibration file"
   ]
  },
  {
   "cell_type": "code",
   "execution_count": 4,
   "metadata": {},
   "outputs": [],
   "source": [
    "\n",
    "_recording_dir = os.path.join(os.path.dirname(os.getcwd()), '..', \"example_dataset\")\n",
    "_data_dir = \"mono2_3d_trial0\"\n",
    "_data_path = os.path.join(\n",
    "    _recording_dir, \"recordings\", _data_dir, \"webcam_color.msgpack\"\n",
    ")\n",
    "\n",
    "ar_parameters = aruco.DetectorParameters()\n",
    "ar_dict = aruco.getPredefinedDictionary(aruco.DICT_APRILTAG_36H11)\n",
    "ar_detector = aruco.ArucoDetector(ar_dict, ar_parameters)\n",
    "markerLength = 0.06\n",
    "markerSeperation = 0.01\n",
    "\n",
    "default_ids = [4, 8, 12, 14, 20]\n",
    "\n",
    "board = aruco.GridBoard(\n",
    "    size=[1, 1],\n",
    "    markerLength=markerLength,\n",
    "    markerSeparation=markerSeperation,\n",
    "    dictionary=ar_dict,\n",
    ")"
   ]
  },
  {
   "cell_type": "code",
   "execution_count": 4,
   "metadata": {},
   "outputs": [],
   "source": [
    "def estimate_pose_single_markers(\n",
    "    corners, marker_size, camera_matrix, distortion_coefficients\n",
    "):\n",
    "    marker_points = np.array(\n",
    "        [\n",
    "            [-marker_size / 2, marker_size / 2, 0],\n",
    "            [marker_size / 2, marker_size / 2, 0],\n",
    "            [marker_size / 2, -marker_size / 2, 0],\n",
    "            [-marker_size / 2, -marker_size / 2, 0],\n",
    "        ],\n",
    "        dtype=np.float32,\n",
    "    )\n",
    "    rvecs = []\n",
    "    tvecs = []\n",
    "    for corner in corners:\n",
    "        _, r, t = cv2.solvePnP(\n",
    "            marker_points,\n",
    "            corner,\n",
    "            camera_matrix,\n",
    "            distortion_coefficients,\n",
    "            True,\n",
    "            flags=cv2.SOLVEPNP_IPPE_SQUARE,\n",
    "        )\n",
    "        if r is not None and t is not None:\n",
    "            r = np.array(r).reshape(1, 3).tolist()\n",
    "            t = np.array(t).reshape(1, 3).tolist()\n",
    "            rvecs.append(r)\n",
    "            tvecs.append(t)\n",
    "    return np.array(rvecs, dtype=np.float32), np.array(tvecs, dtype=np.float32)\n"
   ]
  },
  {
   "cell_type": "code",
   "execution_count": 5,
   "metadata": {},
   "outputs": [],
   "source": [
    "\n",
    "ARUCO_PARAMETERS = aruco.DetectorParameters()\n",
    "ARUCO_DICT = aruco.getPredefinedDictionary(aruco.DICT_ARUCO_ORIGINAL)\n",
    "detector = aruco.ArucoDetector(ARUCO_DICT, ARUCO_PARAMETERS)\n",
    "markerLength = 0.05\n",
    "markerSeperation = 0.01\n",
    "\n",
    "board = aruco.GridBoard(\n",
    "    size=[1, 1],\n",
    "    markerLength=markerLength,\n",
    "    markerSeparation=markerSeperation,\n",
    "    dictionary=ARUCO_DICT,\n",
    ")"
   ]
  },
  {
   "cell_type": "code",
   "execution_count": 6,
   "metadata": {},
   "outputs": [],
   "source": [
    "calibration_flags = cv2.CALIB_CB_CLUSTERING\n",
    "term_criteria = (cv2.TERM_CRITERIA_EPS + cv2.TERM_CRITERIA_MAX_ITER, 30, 1e-6)"
   ]
  },
  {
   "cell_type": "code",
   "execution_count": 7,
   "metadata": {},
   "outputs": [
    {
     "name": "stderr",
     "output_type": "stream",
     "text": [
      "1636it [00:00, 136029.68it/s]\n"
     ]
    }
   ],
   "source": [
    "\n",
    "corners, ids = [], []\n",
    "with open(_data_path, \"rb\") as _f:\n",
    "    unpacker = mp.Unpacker(_f, object_hook=mpn.decode)\n",
    "    img_size = next(unpacker)\n",
    "    for _frame in tqdm(unpacker):\n",
    "        _c, _i = _frame\n",
    "        corners.append(_c)\n",
    "        ids.append(_i)\n",
    "\n",
    "timestamp = []\n",
    "sync = []\n",
    "\n",
    "with open(\n",
    "    os.path.join(os.path.dirname(_data_path), \"webcam_timestamp.msgpack\"), \"rb\"\n",
    ") as _f:\n",
    "    unpacker = mp.Unpacker(_f, object_hook=mpn.decode)\n",
    "    for _p in unpacker:\n",
    "        sync.append(_p[0])\n",
    "        timestamp.append(_p[1])\n",
    "sync = np.array(sync).astype(bool)"
   ]
  },
  {
   "cell_type": "code",
   "execution_count": null,
   "metadata": {},
   "outputs": [],
   "source": []
  }
 ],
 "metadata": {
  "kernelspec": {
   "display_name": "venv",
   "language": "python",
   "name": "python3"
  },
  "language_info": {
   "codemirror_mode": {
    "name": "ipython",
    "version": 3
   },
   "file_extension": ".py",
   "mimetype": "text/x-python",
   "name": "python",
   "nbconvert_exporter": "python",
   "pygments_lexer": "ipython3",
   "version": "3.11.2"
  }
 },
 "nbformat": 4,
 "nbformat_minor": 2
}
